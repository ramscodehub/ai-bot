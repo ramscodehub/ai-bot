{
  "nbformat": 4,
  "nbformat_minor": 0,
  "metadata": {
    "colab": {
      "name": "chatBot.ipynb",
      "provenance": [],
      "authorship_tag": "ABX9TyNLNma+Ptmt0CHwRwIbiJ4K",
      "include_colab_link": true
    },
    "kernelspec": {
      "name": "python3",
      "display_name": "Python 3"
    }
  },
  "cells": [
    {
      "cell_type": "markdown",
      "metadata": {
        "id": "view-in-github",
        "colab_type": "text"
      },
      "source": [
        "<a href=\"https://colab.research.google.com/github/ramscodehub/ai-bot/blob/master/chatBot.ipynb\" target=\"_parent\"><img src=\"https://colab.research.google.com/assets/colab-badge.svg\" alt=\"Open In Colab\"/></a>"
      ]
    },
    {
      "cell_type": "code",
      "metadata": {
        "id": "U0d1KjtDmkIr",
        "colab_type": "code",
        "colab": {
          "base_uri": "https://localhost:8080/",
          "height": 151
        },
        "outputId": "a46b6ead-0578-4a0f-f899-1db04049b888"
      },
      "source": [
        "#try:\n",
        "  #%tensorflow_version 2.x\n",
        "#except Exception:\n",
        "  #pass\n",
        "import tensorflow as tf\n",
        "import numpy as np\n",
        "import pandas as pd\n",
        "import matplotlib.pyplot as plt\n",
        "import keras as keras  \n",
        "print(tf.__version__)\n",
        "from google.colab import drive\n",
        "drive.mount(\"/content/drive\")\n",
        "#!ls \"/content/drive/My Drive/\"\n",
        "lines=open('/content/drive/My Drive/movie_lines.txt',encoding='utf-8',errors='ignore').read().split('\\n')\n",
        "conv_lines=open('/content/drive/My Drive/movie_conversations.txt',encoding='utf-8',errors='ignore').read().split('\\n')\n",
        "print(type(conv_lines))\n",
        "print(type(lines))"
      ],
      "execution_count": null,
      "outputs": [
        {
          "output_type": "display_data",
          "data": {
            "text/html": [
              "<p style=\"color: red;\">\n",
              "The default version of TensorFlow in Colab will soon switch to TensorFlow 2.x.<br>\n",
              "We recommend you <a href=\"https://www.tensorflow.org/guide/migrate\" target=\"_blank\">upgrade</a> now \n",
              "or ensure your notebook will continue to use TensorFlow 1.x via the <code>%tensorflow_version 1.x</code> magic:\n",
              "<a href=\"https://colab.research.google.com/notebooks/tensorflow_version.ipynb\" target=\"_blank\">more info</a>.</p>\n"
            ],
            "text/plain": [
              "<IPython.core.display.HTML object>"
            ]
          },
          "metadata": {
            "tags": []
          }
        },
        {
          "output_type": "stream",
          "text": [
            "1.15.0\n",
            "Drive already mounted at /content/drive; to attempt to forcibly remount, call drive.mount(\"/content/drive\", force_remount=True).\n",
            "<class 'list'>\n",
            "<class 'list'>\n"
          ],
          "name": "stdout"
        },
        {
          "output_type": "stream",
          "text": [
            "Using TensorFlow backend.\n"
          ],
          "name": "stderr"
        }
      ]
    },
    {
      "cell_type": "code",
      "metadata": {
        "id": "GpMJZjBXX3gF",
        "colab_type": "code",
        "colab": {
          "base_uri": "https://localhost:8080/",
          "height": 211
        },
        "outputId": "0aacabec-c66f-408d-f0f0-0ac9275f9a5b"
      },
      "source": [
        "lines[:10]"
      ],
      "execution_count": null,
      "outputs": [
        {
          "output_type": "execute_result",
          "data": {
            "text/plain": [
              "['L1045 +++$+++ u0 +++$+++ m0 +++$+++ BIANCA +++$+++ They do not!',\n",
              " 'L1044 +++$+++ u2 +++$+++ m0 +++$+++ CAMERON +++$+++ They do to!',\n",
              " 'L985 +++$+++ u0 +++$+++ m0 +++$+++ BIANCA +++$+++ I hope so.',\n",
              " 'L984 +++$+++ u2 +++$+++ m0 +++$+++ CAMERON +++$+++ She okay?',\n",
              " \"L925 +++$+++ u0 +++$+++ m0 +++$+++ BIANCA +++$+++ Let's go.\",\n",
              " 'L924 +++$+++ u2 +++$+++ m0 +++$+++ CAMERON +++$+++ Wow',\n",
              " \"L872 +++$+++ u0 +++$+++ m0 +++$+++ BIANCA +++$+++ Okay -- you're gonna need to learn how to lie.\",\n",
              " 'L871 +++$+++ u2 +++$+++ m0 +++$+++ CAMERON +++$+++ No',\n",
              " 'L870 +++$+++ u0 +++$+++ m0 +++$+++ BIANCA +++$+++ I\\'m kidding.  You know how sometimes you just become this \"persona\"?  And you don\\'t know how to quit?',\n",
              " 'L869 +++$+++ u0 +++$+++ m0 +++$+++ BIANCA +++$+++ Like my fear of wearing pastels?']"
            ]
          },
          "metadata": {
            "tags": []
          },
          "execution_count": 2
        }
      ]
    },
    {
      "cell_type": "code",
      "metadata": {
        "id": "gP_LDCUo5o6f",
        "colab_type": "code",
        "colab": {
          "base_uri": "https://localhost:8080/",
          "height": 191
        },
        "outputId": "46f5d50e-d9d2-4476-d0d9-b4dac16d410c"
      },
      "source": [
        "conv_lines[0:10]"
      ],
      "execution_count": null,
      "outputs": [
        {
          "output_type": "execute_result",
          "data": {
            "text/plain": [
              "[\"u0 +++$+++ u2 +++$+++ m0 +++$+++ ['L194', 'L195', 'L196', 'L197']\",\n",
              " \"u0 +++$+++ u2 +++$+++ m0 +++$+++ ['L198', 'L199']\",\n",
              " \"u0 +++$+++ u2 +++$+++ m0 +++$+++ ['L200', 'L201', 'L202', 'L203']\",\n",
              " \"u0 +++$+++ u2 +++$+++ m0 +++$+++ ['L204', 'L205', 'L206']\",\n",
              " \"u0 +++$+++ u2 +++$+++ m0 +++$+++ ['L207', 'L208']\",\n",
              " \"u0 +++$+++ u2 +++$+++ m0 +++$+++ ['L271', 'L272', 'L273', 'L274', 'L275']\",\n",
              " \"u0 +++$+++ u2 +++$+++ m0 +++$+++ ['L276', 'L277']\",\n",
              " \"u0 +++$+++ u2 +++$+++ m0 +++$+++ ['L280', 'L281']\",\n",
              " \"u0 +++$+++ u2 +++$+++ m0 +++$+++ ['L363', 'L364']\",\n",
              " \"u0 +++$+++ u2 +++$+++ m0 +++$+++ ['L365', 'L366']\"]"
            ]
          },
          "metadata": {
            "tags": []
          },
          "execution_count": 3
        }
      ]
    },
    {
      "cell_type": "code",
      "metadata": {
        "id": "Cjjfgn08Ct62",
        "colab_type": "code",
        "colab": {
          "base_uri": "https://localhost:8080/",
          "height": 87
        },
        "outputId": "2c084bfc-b02f-4359-aa71-e5ff22050208"
      },
      "source": [
        "#creating a dictionary to map each lines id with its text\n",
        "id2line = {}\n",
        "for line in lines:\n",
        "    _line = line.split(' +++$+++ ')\n",
        "    if len(_line) == 5:\n",
        "        id2line[_line[0]] = _line[4]\n",
        "\n",
        "print(len(id2line))\n",
        "print(id2line['L1045'])\n",
        "print(id2line['L1044'])\n",
        "#Accessing last key in a id2line dictionary\n",
        "a=list(id2line.keys())\n",
        "print(a[-1])"
      ],
      "execution_count": null,
      "outputs": [
        {
          "output_type": "stream",
          "text": [
            "304713\n",
            "They do not!\n",
            "They do to!\n",
            "L666256\n"
          ],
          "name": "stdout"
        }
      ]
    },
    {
      "cell_type": "code",
      "metadata": {
        "id": "ltFckbO0caBR",
        "colab_type": "code",
        "colab": {
          "base_uri": "https://localhost:8080/",
          "height": 1000
        },
        "outputId": "9bc2e42e-87b5-4de9-89de-1cd3a3b07255"
      },
      "source": [
        "id2line"
      ],
      "execution_count": null,
      "outputs": [
        {
          "output_type": "execute_result",
          "data": {
            "text/plain": [
              "{'L1045': 'They do not!',\n",
              " 'L1044': 'They do to!',\n",
              " 'L985': 'I hope so.',\n",
              " 'L984': 'She okay?',\n",
              " 'L925': \"Let's go.\",\n",
              " 'L924': 'Wow',\n",
              " 'L872': \"Okay -- you're gonna need to learn how to lie.\",\n",
              " 'L871': 'No',\n",
              " 'L870': 'I\\'m kidding.  You know how sometimes you just become this \"persona\"?  And you don\\'t know how to quit?',\n",
              " 'L869': 'Like my fear of wearing pastels?',\n",
              " 'L868': 'The \"real you\".',\n",
              " 'L867': 'What good stuff?',\n",
              " 'L866': \"I figured you'd get to the good stuff eventually.\",\n",
              " 'L865': 'Thank God!  If I had to hear one more story about your coiffure...',\n",
              " 'L864': \"Me.  This endless ...blonde babble. I'm like, boring myself.\",\n",
              " 'L863': 'What crap?',\n",
              " 'L862': 'do you listen to this crap?',\n",
              " 'L861': 'No...',\n",
              " 'L860': 'Then Guillermo says, \"If you go any lighter, you\\'re gonna look like an extra on 90210.\"',\n",
              " 'L699': 'You always been this selfish?',\n",
              " 'L698': 'But',\n",
              " 'L697': \"Then that's all you had to say.\",\n",
              " 'L696': 'Well, no...',\n",
              " 'L695': \"You never wanted to go out with 'me, did you?\",\n",
              " 'L694': 'I was?',\n",
              " 'L693': 'I looked for you back at the party, but you always seemed to be \"occupied\".',\n",
              " 'L663': 'Tons',\n",
              " 'L662': 'Have fun tonight?',\n",
              " 'L578': 'I believe we share an art instructor',\n",
              " 'L577': 'You know Chastity?',\n",
              " 'L576': 'Looks like things worked out tonight, huh?',\n",
              " 'L575': 'Hi.',\n",
              " 'L407': \"Who knows?  All I've ever heard her say is that she'd dip before dating a guy that smokes.\",\n",
              " 'L406': \"So that's the kind of guy she likes? Pretty ones?\",\n",
              " 'L405': \"Lesbian?  No. I found a picture of Jared Leto in one of her drawers, so I'm pretty sure she's not harboring same-sex tendencies.\",\n",
              " 'L404': \"She's not a...\",\n",
              " 'L403': \"I'm workin' on it. But she doesn't seem to be goin' for him.\",\n",
              " 'L402': \"I really, really, really wanna go, but I can't.  Not unless my sister goes.\",\n",
              " 'L401': 'Sure have.',\n",
              " 'L368': \"Eber's Deep Conditioner every two days. And I never, ever use a blowdryer without the diffuser attachment.\",\n",
              " 'L367': 'How do you get your hair to look like that?',\n",
              " 'L366': \"You're sweet.\",\n",
              " 'L365': 'You have my word.  As a gentleman',\n",
              " 'L364': \"I counted on you to help my cause. You and that thug are obviously failing. Aren't we ever going on our date?\",\n",
              " 'L363': 'You got something on your mind?',\n",
              " 'L281': 'Where?',\n",
              " 'L280': 'There.',\n",
              " 'L277': \"Well, there's someone I think might be --\",\n",
              " 'L276': 'How is our little Find the Wench A Date plan progressing?',\n",
              " 'L275': 'Forget French.',\n",
              " 'L274': \"That's because it's such a nice one.\",\n",
              " 'L273': \"I don't want to know how to say that though.  I want to know useful things. Like where the good stores are.  How much does champagne cost?  Stuff like Chat.  I have never in my life had to point out my head to someone.\",\n",
              " 'L272': \"Right.  See?  You're ready for the quiz.\",\n",
              " 'L271': \"C'esc ma tete. This is my head\",\n",
              " 'L208': 'Let me see what I can do.',\n",
              " 'L207': 'Gosh, if only we could find Kat a boyfriend...',\n",
              " 'L206': \"That's a shame.\",\n",
              " 'L205': 'Unsolved mystery.  She used to be really popular when she started high school, then it was just like she got sick of it or something.',\n",
              " 'L204': 'Why?',\n",
              " 'L203': 'Seems like she could get a date easy enough...',\n",
              " 'L202': \"The thing is, Cameron -- I'm at the mercy of a particularly hideous breed of loser.  My sister.  I can't date until she does.\",\n",
              " 'L201': 'Cameron.',\n",
              " 'L200': \"No, no, it's my fault -- we didn't have a proper introduction ---\",\n",
              " 'L199': 'Forget it.',\n",
              " 'L198': \"You're asking me out.  That's so cute. What's your name again?\",\n",
              " 'L197': \"Okay... then how 'bout we try out some French cuisine.  Saturday?  Night?\",\n",
              " 'L196': 'Not the hacking and gagging and spitting part.  Please.',\n",
              " 'L195': \"Well, I thought we'd start with pronunciation, if that's okay with you.\",\n",
              " 'L194': 'Can we make this quick?  Roxanne Korrine and Andrew Barrett are having an incredibly horrendous public break- up on the quad.  Again.',\n",
              " 'L953': 'I did.',\n",
              " 'L952': \"You think you ' re the only sophomore at the prom?\",\n",
              " 'L660': \"I don't have to be home 'til two.\",\n",
              " 'L659': 'I have to be home in twenty minutes.',\n",
              " 'L600': \"All I know is -- I'd give up my private line to go out with a guy like Joey.\",\n",
              " 'L599': \"Sometimes I wonder if the guys we're supposed to want to go out with are the ones we actually want to go out with, you know?\",\n",
              " 'L598': \"Bianca, I don't think the highlights of dating Joey Dorsey are going to include door-opening and coat-holding.\",\n",
              " 'L597': \"Combination.  I don't know -- I thought he'd be different.  More of a gentleman...\",\n",
              " 'L596': 'Is he oily or dry?',\n",
              " 'L595': \"He practically proposed when he found out we had the same dermatologist. I mean. Dr. Bonchowski is great an all, but he's not exactly relevant party conversation.\",\n",
              " 'L580': 'Would you mind getting me a drink, Cameron?',\n",
              " 'L579': 'Great',\n",
              " 'L573': 'Joey.',\n",
              " 'L572': 'Who?',\n",
              " 'L571': 'Where did he go?  He was just here.',\n",
              " 'L51': 'You might wanna think about it',\n",
              " 'L50': 'No.',\n",
              " 'L49': 'Did you change your hair?',\n",
              " 'L760': \"You know the deal.  I can ' t go if Kat doesn't go --\",\n",
              " 'L759': 'Listen, I want to talk to you about the prom.',\n",
              " 'L758': \"You're concentrating awfully hard considering it's gym class.\",\n",
              " 'L757': 'Hi, Joey.',\n",
              " 'L756': 'Hey, sweet cheeks.',\n",
              " 'L593': \"My agent says I've got a good shot at being the Prada guy next year.\",\n",
              " 'L592': 'Neat...',\n",
              " 'L591': \"It's a gay cruise line, but I'll be, like, wearing a uniform and stuff.\",\n",
              " 'L590': 'Queen Harry?',\n",
              " 'L589': 'So yeah, I\\'ve got the Sears catalog thing going -- and the tube sock gig \" that\\'s gonna be huge.  And then I\\'m up for an ad for Queen Harry next week.',\n",
              " 'L397': 'Hopefully.',\n",
              " 'L396': \"Exactly  So, you going to Bogey Lowenbrau's thing on Saturday?\",\n",
              " 'L395': 'Expensive?',\n",
              " 'L394': \"It's more\",\n",
              " 'L1052': 'Perm?',\n",
              " 'L1051': 'Patrick -- is that- a.',\n",
              " 'L1022': \"It's just you.\",\n",
              " 'L1021': 'Is that woman a complete fruit-loop or is it just me?',\n",
              " 'L1011': 'No! I just wanted',\n",
              " 'L1010': 'What? To completely damage me?  To send me to therapy forever? What?',\n",
              " 'L1009': 'I just wanted --',\n",
              " 'L1008': 'You set me up.',\n",
              " 'L1007': 'Let go!',\n",
              " 'L983': 'So did you',\n",
              " 'L982': 'You looked beautiful last night, you know.',\n",
              " 'L914': \"I guess I'll never know, will I?\",\n",
              " 'L913': \"Not all experiences are good, Bianca. You can't always trust the people you want to.\",\n",
              " 'L912': \"God, you're just like him! Just keep me locked away in the dark, so I can't experience anything for myself\",\n",
              " 'L911': 'I guess I thought I was protecting you.',\n",
              " 'L910': \"I'm not stupid enough to repeat your mistakes.\",\n",
              " 'L909': \"That's not\",\n",
              " 'L908': \"No. you didn't!  If you really thought I could make my own decisions, you would've let me go out with him instead of helping Daddy hold me hostage.\",\n",
              " 'L907': 'I wanted to let you make up your own mind about him.',\n",
              " 'L906': \"Why didn't you tell me?\",\n",
              " 'L905': 'After that, I swore I\\'d never do anything just because \"everyone else\" was doing it.  And I haven\\'t since. Except for Bogey\\'s party, and my stunning gastro-intestinal display --',\n",
              " 'L904': 'But',\n",
              " 'L903': \"Just once.  Afterwards, I told him I didn't want to anymore.  I wasn't ready. He got pissed.  Then he broke up with me.\",\n",
              " 'L902': 'You did what?',\n",
              " 'L901': 'He said everyone was doing it.  So I did it.',\n",
              " 'L900': 'As in...',\n",
              " 'L899': 'Now I do.  Back then, was a different story.',\n",
              " 'L898': 'But you hate Joey',\n",
              " 'L897': 'He was, like, a total babe',\n",
              " 'L896': 'Why?',\n",
              " 'L895': 'In 9th.  For a month',\n",
              " 'L894': 'What?',\n",
              " 'L893': 'Joey never told you we went out, did he?',\n",
              " 'L892': \"I wish I had that luxury. I'm the only sophomore that got asked to the prom and I can't go, because you won ' t.\",\n",
              " 'L891': \"I do care. But I'm a firm believer in doing something for your own reasons, not someone else ' s .\",\n",
              " 'L890': 'Like you care.',\n",
              " 'L889': \"Listen, I know you hate having to sit home because I'm not Susie High School.\",\n",
              " 'L656': \"You're welcome.\",\n",
              " 'L655': \"I don't get you.  You act like you're too good for any of this, and then you go totally apeshit when you get here.\",\n",
              " 'L602': \"I really don't think I need any social advice from you right now.\",\n",
              " 'L601': 'Bianca, I need to talk to you -- I need to tell you --',\n",
              " 'L543': 'Can we go now?',\n",
              " 'L542': 'You are so completely unbalanced.',\n",
              " 'L533': \"Yeah, he's your freak friend Mandella's boyfriend.  I guess since I'm not allowed to go out, I should obsess over a dead guy, too.\",\n",
              " 'L532': \"It's Shakespeare.  Maybe you've heard of him?\",\n",
              " 'L531': \"Like I'm supposed to know what that even means.\",\n",
              " 'L530': \"At least I'm not a clouted fen- sucked hedge-pig.\",\n",
              " 'L529': \"Can't you forget for just one night that you're completely wretched?\",\n",
              " 'L527': \"Bogey Lowenstein's party is normal, but you're too busy listening to Bitches Who Need Prozac to know that.\",\n",
              " 'L526': \"What's normal?\",\n",
              " 'L525': \"You're ruining my life'  Because you won't be normal, I can't be normal.\",\n",
              " 'L445': \"I think you're a freak.  I think you do this to torture me.  And I think you suck.\",\n",
              " 'L444': 'What do you think?',\n",
              " 'L443': \"Oh, I thought you might have a date  I don't know why I'm bothering to ask, but are you going to Bogey Lowenstein's party Saturday night?\",\n",
              " 'L442': \"It means that Gigglepuss is playing at Club Skunk and we're going.\",\n",
              " 'L441': \"Oh my God, does this mean you're becoming normal?\",\n",
              " 'L320': 'Can you at least start wearing a bra?',\n",
              " 'L319': \"I have the potential to smack the crap out of you if you don't get out of my way.\",\n",
              " 'L165': 'Nowhere... Hi, Daddy.',\n",
              " 'L164': \"Where've you been?\",\n",
              " 'L923': \"I have a date, Daddy.  And he ' s not a captain of oppression like some men we know.\",\n",
              " 'L922': \"I'm missing something.\",\n",
              " 'L884': \"Fine.  I see that I'm a prisoner in my own house.  I'm not a daughter. I'm a possession!\",\n",
              " 'L883': \"You're not going unless your sister goes.  End of story.\",\n",
              " 'L882': 'He\\'s not a \"hot rod\".  Whatever that is.',\n",
              " 'L881': \"It's that hot rod Joey, right? That ' s who you want me to bend my rules for?\",\n",
              " 'L880': 'No, but',\n",
              " 'L879': 'The prom?  Kat has a date?',\n",
              " 'L878': \"Daddy, I want to discuss the prom with you. It's tomorrow night --\",\n",
              " 'L546': \"Because she'll scare them away.\",\n",
              " 'L545': 'Why?',\n",
              " 'L544': \"Promise me you won't talk to any boys unless your sister is present.\",\n",
              " 'L540': 'Just for a minute',\n",
              " 'L539': 'Daddy, no!',\n",
              " 'L538': 'Wear the belly before you go.',\n",
              " 'L537': \"It's just a party. Daddy.\",\n",
              " 'L536': \"Oh, God.  It's starting.\",\n",
              " 'L524': \"If Kat's not going, you're not going.\",\n",
              " 'L523': 'Daddy, people expect me to be there!',\n",
              " 'L521': 'It\\'s just a party. Daddy, but I knew you\\'d forbid me to go since \"Gloria Steinem\" over there isn\\'t going --',\n",
              " 'L520': 'Otherwise known as an orgy?',\n",
              " 'L519': 'If you must know, we were attempting to go to a small study group of friends.',\n",
              " 'L518': \"And where're you going?\",\n",
              " 'L517': 'Daddy, I --',\n",
              " 'L190': 'Exactly my point',\n",
              " 'L189': \"But she doesn't want to date.\",\n",
              " 'L183': \"But it's not fair -- she's a mutant, Daddy!\",\n",
              " 'L182': \"Then neither will you.  And I'll get to sleep at night.\",\n",
              " 'L181': 'What if she never starts dating?',\n",
              " 'L180': \"No! You're not dating until your sister starts dating.  End of discussion.\",\n",
              " 'L179': \"Now don't get upset. Daddy, but there's this boy... and I think he might ask...\",\n",
              " 'L463': \"Just sent 'em through.\",\n",
              " 'L462': 'Padua girls.  One tall, decent body. The other one kinda short and undersexed?',\n",
              " 'L461': 'Never',\n",
              " 'L460': 'Fan of a fan.  You see a couple of minors come in?',\n",
              " 'L459': \"Didn't have you pegged for a Gigglepuss fan.  Aren't they a little too pre-teen belly-button ring for you?\",\n",
              " 'L458': 'Always a pleasure, Brucie.',\n",
              " 'L779': \"Best case scenario, you're back on the payroll for awhile.\",\n",
              " 'L778': 'You humiliated the woman! Sacrifice yourself on the altar of dignity and even the score.',\n",
              " 'L586': \"No, I ' m not.\",\n",
              " 'L585': \"Buttholus extremus.  But hey, you're making progress.\",\n",
              " 'L584': \"The hell is that?  What kind of 'guy just picks up a girl and carries her away while you're talking to her?\",\n",
              " 'L583': 'Extremely unfortunate maneuver.',\n",
              " 'L500': \"Hell, I've just been going over the whole thing in my head and -\",\n",
              " 'L499': 'You told me that part already.',\n",
              " 'L433': \"It's her favorite band.\",\n",
              " 'L432': 'Assail your ears for one night.',\n",
              " 'L425': \"Okay!  I wasn't sure\",\n",
              " 'L424': \"He's pretty!\",\n",
              " 'L419': 'Dead at forty-one.',\n",
              " 'L418': 'Her favorite uncle',\n",
              " 'L417': \"It's a lung cancer issue\",\n",
              " 'L416': 'Number one.  She hates smokers',\n",
              " 'L391': \"Are you kidding?  He'll piss himself with joy.  He's the ultimate kiss ass.\",\n",
              " 'L390': 'Will Bogey get bent?',\n",
              " 'L389': \"In that case, we'll need to make it a school-wide blow out.\",\n",
              " 'L388': 'This is it.  A golden opportunity. Patrick can ask Katarina to the party.',\n",
              " 'L245': \"Like we had a choice?  Besides -- when you let the enemy think he's orchestrating the battle, you're in a position of power. We let him pretend he's calling the shots, and while he's busy setting up the plan, you have time to woo Bianca.\",\n",
              " 'L244': 'You got him involved?',\n",
              " 'L225': \"Hey -- I've gotta have a few clients when I get to Wall Street.\",\n",
              " 'L224': 'I thought you hated those people.',\n",
              " 'L223': \"You know, if you do go out with Bianca, you'd be set.  You'd outrank everyone. Strictly A-list.  With me by your side.\",\n",
              " 'L222': \"That's what I just said\",\n",
              " 'L221': \"Did she actually say she'd go out with you?\",\n",
              " 'L220': \"Forget his reputation.  Do you think we've got a plan or not?\",\n",
              " 'L219': \"I'm serious, man, he's whacked.  He sold his own liver on the black market so he could buy new speakers.\",\n",
              " 'L218': 'They always let felons sit in on Honors Biology?',\n",
              " 'L217': \"No kidding.  He's a criminal.  I heard he lit a state trooper on fire.  He just got out of Alcatraz...\",\n",
              " 'L216': 'He seems like he thrives on danger',\n",
              " 'L215': \"What makes you think he'll do it?\",\n",
              " 'L213': 'You wanna go out with him?',\n",
              " 'L212': 'What about him?',\n",
              " 'L211': \"Unlikely, but even so, she still can't go out with you.  So what's the point?\",\n",
              " 'L210': 'I teach her French, get to know her, dazzle her with charm and she falls in love with me.',\n",
              " 'L159': 'The mewling, rampalian wretch herself.',\n",
              " 'L158': \"That's her?  Bianca's sister?\",\n",
              " 'L157': 'Yeah, just a minor encounter with the shrew.',\n",
              " 'L147': 'You could consecrate with her, my friend.',\n",
              " 'L146': \"You mean I'd get a chance to talk to her?\",\n",
              " 'L145': 'Guess who just signed up for a tutor?',\n",
              " 'L144': \"Sure do ... my Mom's from Canada\",\n",
              " 'L143': 'You know French?',\n",
              " 'L142': \"Joey Dorsey?  Perma-shit-grin.  I wish I could say he's a moron, but he's number twelve in the class.  And a model.  Mostly regional stuff, but he's rumored to have a big tube sock ad coming out.\",\n",
              " 'L141': 'He always have that shit-eating grin?',\n",
              " 'L140': \"Because they're bred to.  Their mothers liked guys like that, and their grandmothers before them. Their gene pool is rarely diluted.\",\n",
              " 'L139': 'Why do girls like that always like guys like that?',\n",
              " 'L92': \"I could start with your haircut, but it doesn't matter.  She's not allowed to date until her older sister does.  And that's an impossibility.\",\n",
              " 'L91': 'Why not?',\n",
              " 'L90': \"Bianca Stratford.  Sophomore. Don't even think about it\",\n",
              " 'L89': 'Who is she?',\n",
              " 'L88': 'You burn, you pine, you perish?',\n",
              " 'L87': 'That girl -- I --',\n",
              " 'L78': 'Yeah, but these guys have never seen a horse.  They just jack off to Clint Eastwood.',\n",
              " 'L77': \"That I'm used to.\",\n",
              " 'L74': 'Couple thousand. Most of them evil',\n",
              " 'L73': 'How many people go here?',\n",
              " 'L72': 'Get out!',\n",
              " 'L71': 'Thirty-two.',\n",
              " 'L70': 'How many people were in your old school?',\n",
              " 'L69': \"Yeah.  A couple.  We're outnumbered by the cows, though.\",\n",
              " 'L68': 'I was kidding. People actually live there?',\n",
              " 'L67': \"North, actually.  How'd you   ?\",\n",
              " 'L66': 'So -- which Dakota you from?',\n",
              " 'L65': \"C'mon.  I'm supposed to give you the tour.\",\n",
              " 'L64': 'So they tell me...',\n",
              " 'L63': 'You the new guy?',\n",
              " 'L781': 'You get the girl.',\n",
              " 'L780': \"What's the worst?\",\n",
              " 'L745': 'Where?',\n",
              " 'L744': 'She kissed me.',\n",
              " 'L743': \"You makin' any headway?\",\n",
              " 'L741': \"She just needs time to cool off I'll give it a day.\",\n",
              " 'L740': \"She hates you with the fire of a thousand suns .  That's a direct quote\",\n",
              " 'L726': \"I don ' t know.  I decided not to nail her when she was too drunk to remember it.\",\n",
              " 'L725': \"What'd you do to her?\",\n",
              " 'L625': 'Then, go get her',\n",
              " 'L624': 'Sure',\n",
              " 'L623': 'Cameron -- do you like the girl?',\n",
              " 'L622': \"She's partial to Joey, not me\",\n",
              " 'L621': \"What 're you talking about?\",\n",
              " 'L620': \"It's off. The whole thing.\",\n",
              " 'L619': \"Cameron, I'm a little busy\",\n",
              " 'L431': \"Don't make me do it, man\",\n",
              " 'L430': 'Gigglepuss is playing there tomorrow night.',\n",
              " 'L427': \"So what does that give me?  I'm supposed to buy her some noodles and a book and sit around listening to chicks who can't play their instruments?\",\n",
              " 'L426': 'Okay -- Likes:  Thai food, feminist prose, and \"angry, stinky girl music of the indie-rock persuasion\".',\n",
              " 'L412': \"I've retrieved certain pieces of information on Miss Katarina Stratford I think you'll find helpful.\",\n",
              " 'L411': \"What've you got for me?\",\n",
              " 'L386': \"Yeah -- we'll see.\",\n",
              " 'L385': 'And he means that strictly in a non- prison-movie type of way.',\n",
              " 'L558': 'And why would I do that?',\n",
              " 'L557': 'Leave my sister alone.',\n",
              " 'L556': 'Your sister here?',\n",
              " 'L555': 'Away.',\n",
              " 'L554': 'Where ya goin?',\n",
              " 'L336': 'Not at all',\n",
              " 'L335': 'Hey -- do you mind?',\n",
              " 'L150': \"They're running the rest of me next month.\",\n",
              " 'L149': 'Yeah, and I noticed the only part of you featured in your big Kmart spread was your elbow.  Tough break.',\n",
              " 'L148': \"The vintage look is over, Kat. Haven't you been reading your Sassy?\",\n",
              " 'L748': \"Enough with the Barbie n' Ken shit. I know.\",\n",
              " 'L747': \"I don't know, Dorsey. ..the limo.-the flowers.  Another hundred for the tux --\",\n",
              " 'L609': 'Get her to act like a human',\n",
              " 'L608': 'Do what?',\n",
              " 'L607': \"How'd you do it?\",\n",
              " 'L606': \"A deal's a deal.\",\n",
              " 'L605': \"It's about time.\",\n",
              " 'L358': 'Forget her sister, then.',\n",
              " 'L357': 'Forget it.',\n",
              " 'L356': 'A hundred bucks a date.',\n",
              " 'L355': 'What?',\n",
              " 'L354': 'I just upped my price',\n",
              " 'L352': 'I got her under control. She just acts crazed in public to keep up the image.',\n",
              " 'L351': \"Watching the bitch trash my car doesn't count as a date.\",\n",
              " 'L350': \"I'm on it\",\n",
              " 'L349': 'When I shell out fifty, I expect results.',\n",
              " 'L301': \"Fifty, and you've got your man.\",\n",
              " 'L300': \"Take it or leave it.  This isn't a negotiation.\",\n",
              " 'L299': 'Fine, thirty.',\n",
              " 'L298': \"I can't take a girl like that out on twenty bucks.\",\n",
              " 'L297': 'How much?',\n",
              " 'L296': \"I can't date her sister until that one gets a boyfriend.  And that's the catch. She doesn't want a boyfriend.\",\n",
              " 'L295': \"You're gonna pay me to take out some girl?\",\n",
              " 'L294': 'You got it, Verona.  I pick up the tab, you do the honors.',\n",
              " 'L292': \"But you'd go out with her if you had the cake?\",\n",
              " 'L291': 'You need money to take a girl out',\n",
              " 'L290': 'You just said',\n",
              " 'L289': \"Sure, Sparky.  I'll get right on it.\",\n",
              " 'L288': 'Yeah, whatever.  I want you to go out with her.',\n",
              " 'L287': 'Two legs, nice rack...',\n",
              " 'L286': 'What do you think?',\n",
              " 'L285': 'Yeah',\n",
              " 'L509': \"Hey -- it's all for the higher good right?\",\n",
              " 'L508': \"You better not fuck this up.  I'm heavily invested.\",\n",
              " 'L505': 'What?  We took bathes together when we were kids.',\n",
              " 'L504': 'You and Verona?',\n",
              " 'L503': \"Uh,  yeah.  We're old friend*\",\n",
              " 'L502': \"I hear you're helpin' Verona.\",\n",
              " 'L240': \"So what you need to do is recruit a guy who'll go out with her.  Someone who's up for the job.\",\n",
              " 'L239': 'Does this conversation have a purpose?',\n",
              " 'L238': \"But she can't go out with you because her sister is this insane head case and no one will go out with her. right?\",\n",
              " 'L236': \"We're not.\",\n",
              " 'L235': \"Well, actually, I thought I'd run an idea by you.  You know, just to see if you're interested.\",\n",
              " 'L234': \"We don't chat.\",\n",
              " 'L233': 'Nope - just came by to chat',\n",
              " 'L232': 'Are you lost?',\n",
              " 'L231': 'Hey.',\n",
              " 'L949': \"Oh, honey -- tell me we haven't' progressed to full-on hallucinations.\",\n",
              " 'L948': 'William - he asked me to meet him here.',\n",
              " 'L947': 'Who?',\n",
              " 'L946': 'Have you seen him?',\n",
              " 'L755': 'Oh, good.  Something new and different for us.',\n",
              " 'L754': \"You ' re looking at this from the wrong perspective.  We're making a statement.\",\n",
              " 'L753': \"Okay, okay, we won't go.  It's not like I have a dress anyway\",\n",
              " 'L752': 'Listen to you!  You sound like Betty, all pissed off because Archie is taking Veronica.',\n",
              " 'L751': \"Well, I guess we're not, since we don't have dates .\",\n",
              " 'L750': 'Can you even imagine?  Who the hell would go to this a bastion of commercial excess?',\n",
              " 'L721': 'I got drunk.  I puked.  I got rejected. It was big fun.',\n",
              " 'L720': \"You didn't\",\n",
              " 'L719': 'I did Bianca a favor and it backfired.',\n",
              " 'L718': \"You didn't have a choice?  Where's Kat and what have you done with her?\",\n",
              " 'L717': \"I didn't have a choice.\",\n",
              " 'L716': 'You went to the party?  I thought we were officially opposed to suburban social activity.',\n",
              " 'L491': 'Who cares?',\n",
              " 'L490': \"What'd he say?\",\n",
              " 'L448': 'No fear.',\n",
              " 'L447': \"You think this'll work?\",\n",
              " 'L254': 'If I was Bianca, it would be, \"Any school you want, precious.  Don\\'t forget your tiara.\"',\n",
              " 'L253': 'Does it matter?',\n",
              " 'L252': \"I appreciate your efforts toward a speedy death, but I'm consuming.  Do you mind?\",\n",
              " 'L251': 'Neither has his heterosexuality.',\n",
              " 'L250': \"That's never been proven\",\n",
              " 'L249': \"William didn't even go to high school\",\n",
              " 'L248': 'William would never have gone to a state school.',\n",
              " 'L247': 'So he has this huge raging fit about Sarah Lawrence and insists that I go to his male-dominated, puking frat boy, number one golf team school. I have no say at all.',\n",
              " 'L152': \"You could always go with me.  I'm sure William has some friends.\",\n",
              " 'L151': 'The people at this school are so incredibly foul.',\n",
              " 'L134': \"But imagine the things he'd say during sex.\",\n",
              " 'L133': \"I realize that the men of this fine institution are severely lacking, but killing yourself so you can be with William Shakespeare is beyond the scope of normal teenage obsessions.  You're venturing far past daytime talk show fodder and entering the world of those who need very expensive therapy.\",\n",
              " 'L132': 'An attempted slit.',\n",
              " 'L131': \"What's this?\",\n",
              " 'L130': 'Just a little.',\n",
              " 'L129': 'Mandella, eat.  Starving yourself is a very slow way to die.',\n",
              " 'L128': 'Block E?',\n",
              " 'L127': 'He always look so',\n",
              " 'L126': \"I'm sure he's completely incapable of doing anything that interesting.\",\n",
              " 'L125': \"That's Pat Verona? The one who was gone for a year? I heard he was doing porn movies.\",\n",
              " 'L124': 'Patrick Verona   Random skid.',\n",
              " 'L123': \"Who's that?\",\n",
              " 'L1043': \"Don ' t you even dare. . .\",\n",
              " 'L1042': 'Oh, Bianca?  Can you get me my freshman yearbook?',\n",
              " 'L1041': 'Because I like to torture you.',\n",
              " 'L1040': 'Why is my veggie burger the only burnt object on this grill?',\n",
              " 'L1035': 'Yeah, but then I fucked up. I fell for her.',\n",
              " 'L1034': 'Is that right?',\n",
              " 'L1033': 'Besides, I had some extra cash. Some asshole paid me to take out a really great girl.',\n",
              " 'L1032': 'I thought you could use it. When you start your band.',\n",
              " 'L1031': 'A Fender Strat. You bought this?',\n",
              " 'L977': \"I didn't care about the money.\",\n",
              " 'L976': 'Really?  What was it like?  A down payment now, then a bonus for sleeping with me?',\n",
              " 'L975': \"It wasn't like that.\",\n",
              " 'L974': 'You were paid to take me out!  By -- the one person I truly hate.  I knew it was a set-up!',\n",
              " 'L973': 'Wait I...',\n",
              " 'L961': 'It gets worse -- you still have your freshman yearbook?',\n",
              " 'L960': \"That ' s completely adorable!\",\n",
              " 'L959': \"That's where I was last year.  She'd never lived alone -- my grandfather died -- I stayed with her.  I wasn't in jail, I don't know Marilyn Manson, and I've never slept with a Spice Girl.  I spent a year sitting next to my grandma on the couch watching Wheel of Fortune.  End of story.\",\n",
              " 'L958': 'What?',\n",
              " 'L957': \"My grandmother's .\",\n",
              " 'L940': \"Look, I'm  -- sorry -- that I questioned your motives.  I was wrong.\",\n",
              " 'L939': 'Oh huh',\n",
              " 'L938': \"It's just something I had.  You know\",\n",
              " 'L937': \"It's Scurvy's.  His date got convicted. Where'd you get the dress?\",\n",
              " 'L936': \"How'd you get a tux at the last minute?\",\n",
              " 'L857': \"Nothing!  There's nothing in it for me. Just the pleasure of your company.\",\n",
              " 'L856': 'Answer the question, Patrick',\n",
              " 'L855': 'You need therapy.  Has anyone ever told you that?',\n",
              " 'L854': 'You tell me.',\n",
              " 'L853': 'So I have to have a motive to be with you?',\n",
              " 'L852': 'Create a little drama?  Start a new rumor?  What?',\n",
              " 'L848': \"Because I don't want to. It's a stupid tradition.\",\n",
              " 'L847': 'Why not?',\n",
              " 'L846': \"No, I won't go with you\",\n",
              " 'L845': 'No what?',\n",
              " 'L844': 'No.',\n",
              " 'L843': 'You know what I mean',\n",
              " 'L842': 'Is that a request or a command?',\n",
              " 'L841': 'Go to the prom with me',\n",
              " 'L840': \"You're amazingly self-assured. Has anyone ever told you that?\",\n",
              " 'L839': 'No one else knows',\n",
              " 'L838': 'What?',\n",
              " 'L837': \"You're sweet.  And sexy.  And completely hot for me.\",\n",
              " 'L836': 'No -- something real.  Something no one else knows.',\n",
              " 'L835': 'I hate peas.',\n",
              " 'L834': 'Tell me something true.',\n",
              " 'L832': \"I know the porn career's a lie.\",\n",
              " 'L831': 'Hearsay.',\n",
              " 'L830': 'The duck?',\n",
              " 'L829': 'Fallacy.',\n",
              " 'L828': 'State trooper?',\n",
              " 'L825': 'For. . . ?',\n",
              " 'L824': 'You up for it?',\n",
              " 'L823': 'You never disappointed me.',\n",
              " 'L822': 'How?',\n",
              " 'L821': 'Then you screwed up',\n",
              " 'L820': 'Something like that',\n",
              " 'L819': \"So if you disappoint them from the start, you're covered?\",\n",
              " 'L818': \"I don't like to do what people expect. Then they expect it all the time and they get disappointed when you change.\",\n",
              " 'L817': 'Yes',\n",
              " 'L816': 'Acting the way we do.',\n",
              " 'L815': \"So what's your excuse?\",\n",
              " 'L814': \"Yeah, well, don't let it get out\",\n",
              " 'L813': 'A soft side? Who knew?',\n",
              " 'L812': 'I dazzled him with my wit',\n",
              " 'L811': \"So how'd you get Chapin to look the other way?\",\n",
              " 'L810': 'Good call.',\n",
              " 'L809': 'I figured it had to be something ridiculous to win your respect.  And piss you off.',\n",
              " 'L808': 'The Partridge Family?',\n",
              " 'L806': 'Maybe.',\n",
              " 'L805': 'You want me to climb up and show you how to get down?',\n",
              " 'L804': \"Forget it.  I'm stayin'.\",\n",
              " 'L803': 'Put your right foot there --',\n",
              " 'L802': \"Try lookin' at it from this angle\",\n",
              " 'L801': \"C'mon.  It's not that bad\",\n",
              " 'L800': \"I guess I never told you I'm afraid of heights.\",\n",
              " 'L799': 'Look up, sunshine',\n",
              " 'L798': 'He left!  I sprung the dickhead and he cruised on me.',\n",
              " 'L774': 'Other than my upchuck reflex? Nothing.',\n",
              " 'L773': 'So what did I have an effect on ?',\n",
              " 'L772': \"Don't for one minute think that you had any effect whatsoever on my panties.\",\n",
              " 'L771': 'Unwelcome?  I guess someone still has her panties in a twist.',\n",
              " 'L770': 'Unwelcome.',\n",
              " 'L769': 'Wholesome.',\n",
              " 'L768': 'Pleasant?',\n",
              " 'L767': \"You 're so --\",\n",
              " 'L766': 'I heard there was a poetry reading.',\n",
              " 'L765': 'What are you doing here?',\n",
              " 'L764': 'Excuse me, have you seen The Feminine Mystique?  I lost my copy.',\n",
              " 'L690': \"No offense, but you're sister is without.  I know everyone likes her and all, but ...\",\n",
              " 'L689': 'BIANCA',\n",
              " 'L688': 'Who?',\n",
              " 'L687': \"He just wants me to be someone I'm not.\",\n",
              " 'L686': \"So what ' s up with your dad?  He a pain in the ass?\",\n",
              " 'L684': \"I'm gettin' there\",\n",
              " 'L683': 'Oh, so now you think you know me?',\n",
              " 'L682': \"You don't strike me as the type that would ask permission.\",\n",
              " 'L681': \"My father wouldn't approve of that that\",\n",
              " 'L680': 'Start a band?',\n",
              " 'L679': 'This.',\n",
              " 'L678': 'Do what?',\n",
              " 'L677': 'I should do this.',\n",
              " 'L676': \"Why'd you lie?\",\n",
              " 'L675': \"Then why'd you ask?\",\n",
              " 'L674': \"No, you weren't\",\n",
              " 'L673': 'Maybe.',\n",
              " 'L672': 'Were you in jail?',\n",
              " 'L671': 'Busy',\n",
              " 'L670': 'When you were gone last year -- where were you?',\n",
              " 'L669': \"But it's Gigglepuss - I know you like them.  I saw you there.\",\n",
              " 'L668': \"And I'm in control of it.\",\n",
              " 'L651': 'What?',\n",
              " 'L650': 'Kat! Wake up!',\n",
              " 'L646': 'You know what they say',\n",
              " 'L645': 'I thought you were above all that',\n",
              " 'L644': 'Hey man. . .  You don \\' t think I can be \"cool\"?  You don\\'t think I can be \"laid back\" like everyone else?',\n",
              " 'L643': \"I know.  It'd have to be a pretty big deal to get you to mainline tequila. You don't seem like the type.\",\n",
              " 'L642': 'I hate him.',\n",
              " 'L641': 'Dorsey.',\n",
              " 'L640': 'Who?',\n",
              " 'L639': \"Why'd you let him get to you?\",\n",
              " 'L636': 'Just let me sit down.',\n",
              " 'L635': \"See that?  Who needs affection when I've got blind hatred?\",\n",
              " 'L634': 'Like you could find one',\n",
              " 'L633': \"Because then I'd have to start taking out girls who like me.\",\n",
              " 'L632': 'Why?',\n",
              " 'L631': 'Sure, I do',\n",
              " 'L630': \"You don't care if I die\",\n",
              " 'L629': 'I told you',\n",
              " 'L628': \"Why 're you doing this?\",\n",
              " 'L627': \"Leave it to you to use big words when you're shitfaced.\",\n",
              " 'L626': 'This is so patronizing.',\n",
              " 'L616': 'What if you have a concussion? My dog went to sleep with a concussion and woke up a vegetable. Not that I could tell the difference...',\n",
              " 'L615': 'I know, just let me sleep',\n",
              " 'L614': \"Uh, uh. You lie down and you'll go to sleep\",\n",
              " 'L613': 'I just need to lie down for awhile',\n",
              " 'L612': \"You're not okay.\",\n",
              " 'L611': \"I'm fine. I'm\",\n",
              " 'L610': 'Okay?',\n",
              " 'L567': \"Funny, you're the only one\",\n",
              " 'L566': 'I say, do what you wanna do.',\n",
              " 'L565': '\"I\\'m getting trashed, man.\" Isn\\'t that what you\\'re supposed to do at a party?',\n",
              " 'L564': \"What's this?\",\n",
              " 'L483': \"Why, don't you?\",\n",
              " 'L482': 'You know who The Raincoats are?',\n",
              " 'L481': \"You know, these guys are no Bikini Kill or The Raincoats, but they're right up there.\",\n",
              " 'L477': \"Do you mind?  You're sort of ruining it for me.\",\n",
              " 'L476': \"That's what you want, isn't it?\",\n",
              " 'L475': 'Excuse me?',\n",
              " 'L474': '',\n",
              " 'L473': 'hey.  Great show, huh?',\n",
              " 'L334': \"Depends on the topic. My fenders don't really whip me into a verbal frenzy.\",\n",
              " 'L333': \"You're not a big talker, are you?\",\n",
              " 'L332': 'Hi',\n",
              " 'L331': \"I was in the laundromat. I saw your car. Thought I'd say hi.\",\n",
              " 'L330': 'Are you following me?',\n",
              " 'L328': 'Seven-thirty?',\n",
              " 'L327': 'You -- covered in my vomit.',\n",
              " 'L326': 'Come on -- the ponies, the flat beer, you with money in your eyes, me with my hand on your ass...',\n",
              " 'L325': 'And why would I do that?',\n",
              " 'L324': \"Then say you'll spend Dollar Night at the track with me.\",\n",
              " 'L323': \"I don't really think you warrant that strong an emotion.\",\n",
              " 'L322': \"You hate me don't you?\",\n",
              " 'L313': 'I know a lot more than that',\n",
              " 'L312': 'Like where?  The 7-Eleven on Burnside? Do you even know my name, screwboy?',\n",
              " 'L311': \"The night I take you to places you've never been before.  And back.\",\n",
              " 'L310': 'Oh, right.  Friday.',\n",
              " 'L309': 'Pick you up Friday, then',\n",
              " 'L307': 'My mission in life.',\n",
              " 'L306': \"There's a way to get a guy's attention.\",\n",
              " 'L305': 'Sweating like a pig, actually.  And yourself?',\n",
              " 'L304': \"I mean Wo-man.  How ya doin'?\",\n",
              " 'L1000': \"Oh, Christ.  Don't tell me you've changed your mind.  I already sent 'em a check.\",\n",
              " 'L999': 'When I go?',\n",
              " 'L998': \"You know, fathers don't like to admit that their daughters are capable of running their own lives.  It means we've become spectators.  Bianca still lets me play a few innings.  You've had me on the bleachers for years.  When you go to Sarah Lawrence, I won't even be able to watch the game.\",\n",
              " 'L997': 'No -- impressed.',\n",
              " 'L996': \"What's the matter?  Upset that I rubbed off on her?\",\n",
              " 'L995': 'Bianca did what?',\n",
              " 'L994': 'The part where Bianca beat the hell out of some guy.',\n",
              " 'L993': 'Which parts?',\n",
              " 'L992': 'Parts of it.',\n",
              " 'L991': 'So tell me about this dance. Was it fun?',\n",
              " 'L990': 'No, Daddy.',\n",
              " 'L989': \"I don't understand the allure of dehydrated food.  Is this something I should be hip to?\",\n",
              " 'L988': 'Funny.',\n",
              " 'L987': 'Yeah.  She left with some bikers Big ones.  Full of sperm.',\n",
              " 'L986': 'Was that your sister?',\n",
              " 'L347': 'I want to go to an East Coast school! I want you to trust me to make my own choices.  I want --',\n",
              " 'L346': \"You're eighteen.  You don't know what you want.  You won't know until you're forty-five and you don't have it.\",\n",
              " 'L345': \"So what I want doesn't matter?\",\n",
              " 'L344': \"As a parent, that's my right\",\n",
              " 'L343': \"Because you're making decisions for me.\",\n",
              " 'L342': \"Why can't we agree on this?\",\n",
              " 'L341': 'I thought you were punishing me.',\n",
              " 'L340': 'Is this about Sarah Lawrence? You punishing me?',\n",
              " 'L339': 'Then tell them I had a seizure.',\n",
              " 'L338': 'My insurance does not cover PMS',\n",
              " 'L185': 'Enough!',\n",
              " 'L184': 'This from someone whose diary is devoted to favorite grooming tips?',\n",
              " 'L174': 'You decided.',\n",
              " 'L173': 'I thought we decided you were going to school here.  At U of 0.',\n",
              " 'L172': 'I know.',\n",
              " 'L1018': 'Just smack her now.',\n",
              " 'L1017': 'Am I supposed to feel better? Like, right now?  Or do I have some time to think about it?',\n",
              " 'L109': 'No ... I believe \"heinous bitch\" is the term used most often.',\n",
              " 'L108': 'Tempestuous?',\n",
              " 'L107': 'The point is Kat -- people perceive you as somewhat ...',\n",
              " 'L106': 'I still maintain that he kicked himself in the balls.  I was merely a spectator.',\n",
              " 'L105': \"Well, yes, compared to your other choices of expression this year, today's events are quite mild.  By the way, Bobby Rictor's gonad retrieval operation went quite well, in case you're interested.\",\n",
              " 'L104': 'Expressing my opinion is not a terrorist action.',\n",
              " 'L103': \"Katarina Stratford.  My, my.  You've been terrorizing Ms. Blaise again.\",\n",
              " 'L738': 'Yeah...',\n",
              " 'L737': 'Kat a fan, too?',\n",
              " 'L736': 'Right.',\n",
              " 'L735': 'Macbeth, right?',\n",
              " 'L733': 'Oh yeah.',\n",
              " 'L732': 'You think?',\n",
              " 'L731': 'Yeah.  I guess.',\n",
              " 'L730': 'Cool pictures.  You a fan?',\n",
              " 'L729': 'Hi.',\n",
              " 'L728': 'Hey there.  Tired of breathing?',\n",
              " 'L777': \"Man -- don't say shit like that to  me. People can hear you.\",\n",
              " 'L776': 'Sweet love, renew thy force!',\n",
              " 'L775': \"You were right. She's still pissed.\",\n",
              " 'L724': \"No - I've got a sweet-payin' job that I'm about to lose.\",\n",
              " 'L723': 'So you got cozy with she who stings?',\n",
              " 'L437': \"I'm likin' you guys better\",\n",
              " 'L436': 'I prefer to think of it simply as an alternative to what the law allows.',\n",
              " 'L429': 'Yeah.',\n",
              " 'L428': 'Ever been to Club Skunk?',\n",
              " 'L421': 'Just for now.',\n",
              " 'L420': 'Are you telling me I\\'m a -  \"non-smoker\"?',\n",
              " 'L415': 'Good enough.',\n",
              " 'L414': 'What?!',\n",
              " 'L384': \"We're your guys.\",\n",
              " 'L383': 'You two are gonna help me tame the wild beast?',\n",
              " 'L382': \"Patrick, Pat, you're not looking at the big picture.  Joey's just a pawn. We set this whole thing up so Cameron can get the girl.\",\n",
              " 'L381': 'So Dorsey can get the girl?',\n",
              " 'L380': \"That's where we can help you.  With Kat.\",\n",
              " 'L379': \"Dorsey can plow whoever he wants. I'm just in this for the cash.\",\n",
              " 'L378': \"I think I speak correctly when I say that Cameron's love is pure.  Purer than say -- Joey Dorsey's.\",\n",
              " 'L377': 'What is it with this chick?  She have three tits?',\n",
              " 'L376': 'The situation is, my man Cameron here has a major jones for Bianca Stratford.',\n",
              " 'L375': 'What plan?',\n",
              " 'L373': \"Whatever the hell it is you're standin' there waitin' to say.\",\n",
              " 'L372': 'What?',\n",
              " 'L371': 'Say it',\n",
              " 'L512': 'See you next week!',\n",
              " 'L511': \"You're completely demented.\",\n",
              " 'L264': \"Well, you know -- there's the prestige of the job title... and the benefits package is pretty good...\",\n",
              " 'L263': \"You weren't abused, you aren't stupid, and as far as I can tell, you're only slightly psychotic -- so why is it that you're such a fuck-up?\",\n",
              " 'L262': \"What's to discuss?\",\n",
              " 'L261': \"Why don't we discuss your driving need to be a hemorrhoid?\",\n",
              " 'L259': \"I'm at a loss, then.  What should we talk about? Your year of absence?\",\n",
              " 'L258': 'Touch of the flu.',\n",
              " 'L257': \"I don't understand, Patrick.  You haven't done anything asinine this week. Are you not feeling well?\",\n",
              " 'L62': 'With the teeth of your zipper?',\n",
              " 'L61': 'It was a bratwurst.  I was eating lunch.',\n",
              " 'L60': 'It says here you exposed yourself to a group of freshmen girls.',\n",
              " 'L59': 'I missed you.',\n",
              " 'L933': \"That ' s what I thought\",\n",
              " 'L932': 'Absolutely not.',\n",
              " 'L931': 'Did I have anything to say about it?',\n",
              " 'L930': 'Your daughters went to the prom.',\n",
              " 'L929': 'What just happened?',\n",
              " 'L927': 'But -- who -- what --?',\n",
              " 'L926': 'Have a great time, honey!',\n",
              " 'L918': 'Dr. Ruth?',\n",
              " 'L917': \"What do you wanna watch?  We've got crap, crap, crap or crap\",\n",
              " 'L887': \"Kissing?  Is that what you think happens?  Kissing isn't what keeps me up to my elbows in placenta all day.\",\n",
              " 'L886': \"They'll dance, they'll kiss, they'll come home.  Let her go.\",\n",
              " 'L877': 'Pirate -- no question.',\n",
              " 'L876': 'Would you rather be ravished by a pirate or a British rear admiral?',\n",
              " 'L193': \"You're not helping.\",\n",
              " 'L192': 'Tumescent!',\n",
              " 'L191': 'Jesus!  Can a man even grab a sandwich before you women start dilating?',\n",
              " 'L171': 'Sarah Lawrence is on the other side of the country.',\n",
              " 'L170': \"What's a synonym for throbbing?\",\n",
              " 'L162': 'Make anyone cry today?',\n",
              " 'L161': 'In the microwave.',\n",
              " 'L2181': \"Can't be that far, I say.  Also, I don't like the smell of the sea around here.  Smells like a cunt. Bad sign...\",\n",
              " 'L2180': \"We left three weeks ago, Alonso. Can't be that near.\",\n",
              " 'L2179': 'We should have seen land.',\n",
              " 'L2177': \"We'll all go crazy...\",\n",
              " 'L2176': \"He's the devil's child...\",\n",
              " 'L2175': \"With a face like that?  I don't want you looking at me.  You hear?\",\n",
              " 'L2174': \"Ah, leave him alone.  He's doing no harm.\",\n",
              " 'L2173': 'What are you listening to, chicken ass?',\n",
              " 'L2172': \"You'll be drinking your own piss... For the glory of Spain... and Admiral Colon...!  Bastard!\",\n",
              " 'L2171': \"The water's going putrid in the barrels.\",\n",
              " 'L2170': 'I never seen heat like this!  Not even in Las Minas!',\n",
              " 'L2025': 'IF-GOD-WILLS-IT!',\n",
              " 'L2024': 'Asia can be found to the west -- and I will prove it.',\n",
              " 'L2023': 'Blind faith is what I consider heresy!',\n",
              " 'L2022': \"Don't you realize your words could be considered heretical?\",\n",
              " 'L2020': \"Did He not choose a carpenter's son to reveal Himself to the world?\",\n",
              " 'L2019': 'If God intended our proximity to Asia, do you believe he would have waited for you to show it to the world?',\n",
              " 'L2016': 'No.  The Portuguese have already discovered black-skinned people.  I, too, will find other populations -- and bring them to the word of God.',\n",
              " 'L2015': 'Is that all that interests you? Gold?',\n",
              " 'L2014': 'Trade, Your Excellency.  According to Marco Polo, the Kingdom of China is one of the richest of the world. Even the meanest buildings are roofed with gold.',\n",
              " 'L2012': 'If they agree to follow me, yes.',\n",
              " 'L2011': 'Your life, and that of others!',\n",
              " 'L2010': 'Your Eminence, there is only one way to settle the matter.  And that is to make the journey.  I am ready to risk my life to prove it possible.',\n",
              " 'L2006': 'Excellency, you are right.',\n",
              " 'L2005': 'Senor Colon, an experienced captain such as yourself will understand our concern with the crew.  I am not willing to have on my conscience the loss of men who would have relied upon our judgment.',\n",
              " 'L1993': 'Then you cannot ignore that according to their calculations, the circumference of the Earth is approximately...  22,000 leagues or more.  Which makes the ocean... uncrossable.',\n",
              " 'L1992': 'I am, Your Eminence',\n",
              " 'L1991': 'Unfortunately, Don Colon, that is precisely where our opinions differ...  Are you familiar with the work of Aristotle?  Erathostene?  Ptolemeus?',\n",
              " 'L1990': 'Yes, your Eminence.  The voyage should not take more than six or seven weeks.',\n",
              " 'L1989': 'You say Asia can be found by sailing west?',\n",
              " 'L2524': 'A waste...?  Let me tell you something, Arojaz.  If your name, or mine, is ever remembered -- it will only be because of his.',\n",
              " 'L2523': 'What a tragedy... what a waste of a life...',\n",
              " 'L2522': 'You can see for yourself.',\n",
              " 'L2275': 'On the contrary, Your Eminence.  It seems to me the man is preparing his own cross.',\n",
              " 'L2274': \"It won't be easy to get rid of your prophet now, Don Sanchez.\",\n",
              " 'L2031': 'Indeed.  The world is full of mercenaries -- and states often make use of them, when it benefits them.  My only concern is the welfare and prosperity of Spain.',\n",
              " 'L2030': 'He is a mercenary!  Did he not already try to convince the King of Portugal of his absurd notions?',\n",
              " 'L2029': 'Naturally.  But I would really deplore the loss of such a potential opportunity for Spain for a... dispute over a point of geography.',\n",
              " 'L2028': 'The Judgment is ours!',\n",
              " 'L2027': \"The State has some reason to be interested in this man's proposition, Your Eminence...\",\n",
              " 'L2540': \"I can't keep my eyes off you.  I would like to catch up with all the moments I didn't spend with you.\",\n",
              " 'L2539': 'What is it, now?  Tell me...',\n",
              " 'L2538': 'I am busy inside.',\n",
              " 'L2537': \"Can't you stay with us a little?\",\n",
              " 'L2474': \"Not everything... Do you think I care?  I'm a free man again.  Riches don't make a man rich, they only make him busier...\",\n",
              " 'L2473': 'They took everything...',\n",
              " 'L2472': \"They tried... but I didn't let them.\",\n",
              " 'L2471': \"God... you're so beautiful!  I can't believe no other man has ever taken you away from me...\",\n",
              " 'L2320': 'I can arrange for the Queen to take Fernando and Diego into her service.',\n",
              " 'L2319': \"You don't usually ask.\",\n",
              " 'L2318': 'Beatrix, I want to ask you something.',\n",
              " 'L2123': \"That's something you can't decide.\",\n",
              " 'L2122': \"I don't want you to wait for me.\",\n",
              " 'L2121': \"I'm not asking you to swear to anything.\",\n",
              " 'L2119': 'Thank God...',\n",
              " 'L2118': 'She said yes.',\n",
              " 'L1986': 'I find that hard to believe.',\n",
              " 'L1985': 'Perhaps I was never meant to live with a woman...',\n",
              " 'L1984': \"I'd love to argue with you sometimes.  But you're never here!\",\n",
              " 'L1983': 'Are we going to argue?',\n",
              " 'L1982': \"Well... that's true.  I have a child by a man who won't marry me!  Who's always leaving...\",\n",
              " 'L1981': \"I haven't given you much of a life.\",\n",
              " 'L1980': 'I know.',\n",
              " 'L1979': 'I could be gone for years.',\n",
              " 'L2432': 'I am afraid this is not the worst news.',\n",
              " 'L2431': 'How could I be?  The mainland has been found.  Exactly as I said it would.',\n",
              " 'L2430': 'I am not a seaman.  But I heard it is no more than a week at sea.  I hope you are not too disappointed.',\n",
              " 'L2429': 'How far from here?',\n",
              " 'L2426': 'Congratulations.  Then I am free to search for the mainland.',\n",
              " 'L2425': 'Viceroy of the West Indies.',\n",
              " 'L2424': 'Appointment to what?',\n",
              " 'L2423': 'My letters of appointment.',\n",
              " 'L2422': 'Yes... I remember...',\n",
              " 'L2421': 'Don Alonso de Bobadilla.',\n",
              " 'L2293': 'Bartolome and Giacomo Colon.',\n",
              " 'L2292': 'May I ask by whom?',\n",
              " 'L2291': 'Forgive me, Don Bobadilla -- those positions have already been taken.',\n",
              " 'L2290': 'I understand that you will soon be appointing Governors for the islands?  Is it not so?',\n",
              " 'L2552': 'Tell me the first thing that comes to your mind.',\n",
              " 'L2551': \"Really?  God... I wouldn't know where to start... and yet...\",\n",
              " 'L2550': 'I want you to tell me everything you remember, Father.  From the beginning.  Everything.',\n",
              " 'L2549': 'He never had one... except aboard my ships!',\n",
              " 'L2548': 'He asks when he can come to visit you.  He left his address.',\n",
              " 'L2547': 'What does he say?',\n",
              " 'L2542': \"I am not listening, Father.  But I can't help hearing.\",\n",
              " 'L2541': 'What are you listening to?',\n",
              " 'L2501': 'There must be a passage to that other ocean.',\n",
              " 'L2500': 'Father...',\n",
              " 'L2485': 'Not bad.',\n",
              " 'L2484': 'How are you feeling, Fernando?',\n",
              " 'L2440': 'This time with me!',\n",
              " 'L2439': 'I have to explore the mainland.',\n",
              " 'L2131': 'Yes... Yes, I do... On all of them!',\n",
              " 'L2130': 'Do you swear on all the Holy Saints in heaven?',\n",
              " 'L2129': 'You promise?  Do you swear on St. Christopher...?',\n",
              " 'L2128': \"There'll be a time.\",\n",
              " 'L2127': 'I want to go with you!',\n",
              " 'L2469': 'All of them created by people like me.',\n",
              " 'L2468': 'Roofs... towers, palaces... spires...',\n",
              " 'L2467': 'What do you see?',\n",
              " 'L2466': 'Look out of that window.',\n",
              " 'L2465': 'I am not afraid of you.  You are nothing but a dreamer.',\n",
              " 'L2464': 'Call them.',\n",
              " 'L2463': 'All I have to do is call the guards.',\n",
              " 'L2301': 'To rise so high, in so short a time, is a dangerous occupation.  A little hypocrisy goes a long way.',\n",
              " 'L2300': 'What...?  Do I have so many already?',\n",
              " 'L2299': 'You seem to have a special talent for making friends.',\n",
              " 'L2297': 'Good!  We are also in need of judges.  Except there are no thieves!',\n",
              " 'L2296': 'Don Bobadilla is already a judge, my Dear Don Cristobal.',\n",
              " 'L2295': 'But we do have a lack of notaries. You should contact my administration.',\n",
              " 'L2287': '... for a commoner?',\n",
              " 'L2286': 'You defend yourself admirably...',\n",
              " 'L2282': 'Forgive me, Don Colon.  But what about gold?',\n",
              " 'L2281': \"They don't see sin in their nakedness.  They live according to nature, in a never ending summer. The islands are covered with trees, filled with blossoms and fruits. And...\",\n",
              " 'L2110': \"If you won't accept our proposal, we'll simply find someone who will.\",\n",
              " 'L2109': 'And were you never ambitious, Excellency?  Or is ambition only a virtue among the nobles, a fault for the rest of us?',\n",
              " 'L2108': 'Then you are too ambitious.',\n",
              " 'L2107': \"I'm not bargaining!\",\n",
              " 'L2106': 'I remind you, Senor Colon, that you are in no position to bargain with me.',\n",
              " 'L2105': 'NO...!  I have waited too long, fought too hard.  Now you expect me to take all the risks while you take the profit!  No... I will not be your servant!',\n",
              " 'L2104': 'No?',\n",
              " 'L2103': 'No...',\n",
              " 'L2410': 'You never learned how to speak my language.',\n",
              " 'L2409': \"Utapan, won't you speak to me?  You used to know how to speak to me.\",\n",
              " 'L2394': 'You did the same to your God!',\n",
              " 'L2393': 'You have to find them, Utapan.  Look what they did!',\n",
              " 'L2343': 'Ask him if he will help.',\n",
              " 'L2342': 'He understands.',\n",
              " 'L2341': 'We will work with his people.  We want peace.  Ask the Chief if he understands?',\n",
              " 'L2260': 'He has medicine.  Tell him we admire his people.',\n",
              " 'L2259': 'Chief says...',\n",
              " 'L2258': '... and also to bring medicine.',\n",
              " 'L2257': 'Chief says -- he has a God.',\n",
              " 'L2256': 'To bring the word of God.',\n",
              " 'L2255': 'Why?',\n",
              " 'L2254': 'Thousands.',\n",
              " 'L2253': 'Chief says -- how many?',\n",
              " 'L2251': 'Tell him his country is very beautiful.  Tell him we are leaving men here -- to build a fort.',\n",
              " 'L2250': 'Chief knows.',\n",
              " 'L2249': 'Tell the Chief we thank him.',\n",
              " 'L2248': 'You come!  You speak first!',\n",
              " 'L2239': 'Island.  Far.',\n",
              " 'L2238': 'What is it?  A tribe?  An island?',\n",
              " 'L2237': 'Say not here!  Cuba!',\n",
              " 'L2535': \"I don't know... I have the impression that I didn't change that much.  I still can't accept the world as it is!\",\n",
              " 'L2534': 'Oh?  So you are a new man?',\n",
              " 'L2533': 'New worlds create new people.',\n",
              " 'L2532': 'I knew you would.',\n",
              " 'L2531': 'I have to disagree.',\n",
              " 'L2526': \"You'll always be older than me, Father.\",\n",
              " 'L2525': \"I suppose we're both old men now.\",\n",
              " 'L2145': 'Give me absolution.',\n",
              " 'L2144': 'I believed in you...',\n",
              " 'L2143': 'You are bound by an oath, Father.',\n",
              " 'L2142': \"My son, my son...  Your certitudes are sometimes frightening...  Christopher, you must speak to them. And if you don't I will.\",\n",
              " 'L2141': \"If I tell them, they won't follow me.  You know that I am right, Father.  You trust me...\",\n",
              " 'L2140': 'May God forgive you...!  You must tell them!  You must tell your men!',\n",
              " 'L2139': 'I am not sure... It could be twice the distance.',\n",
              " 'L2138': 'How long?',\n",
              " 'L2137': 'I lied.  The journey will be longer than I said.',\n",
              " 'L2136': 'What are you saying?',\n",
              " 'L2135': 'Father, I have betrayed my family. I betrayed my men.  And I betrayed you.',\n",
              " 'L2134': 'I am listening, my son.',\n",
              " 'L2133': 'Forgive me, Father.  For I have sinned.',\n",
              " 'L2132': 'In Nomine Patris et Filius, et Spiritus Sancti.',\n",
              " 'L2046': \"Colon!  Don't!\",\n",
              " 'L2045': 'All of them!  Just lies!',\n",
              " 'L2042': 'Damn all of you!  You all set up theories based on what?  You never leave the safety of your studies! Go out!  Find out what the world is about and then tell me something I can listen to!',\n",
              " 'L2041': 'Colon!',\n",
              " 'L2040': 'Damn God!',\n",
              " 'L2039': 'If God intends you to go, then you will go.',\n",
              " 'L2038': \"Wait!  I've waited seven years already!  How much longer do you want me to wait?\",\n",
              " 'L2037': \"You mustn't give way to despair. You must wait.\",\n",
              " 'L1969': 'Only God knows the meaning of such words, my son.',\n",
              " 'L1968': \"I've been contradicted all my life... Eternity!\",\n",
              " 'L1967': 'You get so carried away when you are being contradicted!',\n",
              " 'L1966': 'Passion is something one cannot control!',\n",
              " 'L1965': 'Father Marchena!',\n",
              " 'L1964': \"I'll try to remember that, Marchena...\",\n",
              " 'L1963': \"Two minutes... and already you're a dead man.  Don't let passion overwhelm you, Colon.\",\n",
              " 'L1962': 'So was Christ!',\n",
              " 'L1961': 'Esdras is a Jew.',\n",
              " 'L1960': 'The calculations of Toscanelli Marin de Tyr, Esdras...',\n",
              " 'L1959': 'How can you be so certain?',\n",
              " 'L1958': 'Ignorance!  I believe the Indies are no more than 750 leagues west of the Canary Islands.',\n",
              " 'L1957': 'How can you be so certain?  The Ocean is said to be infinite.',\n",
              " 'L1952': 'To open a new route to Asia.  At the moment there are only two ways of reaching it...',\n",
              " 'L1951': 'Why do you wish to sail west?',\n",
              " 'L1950': 'With some difficulty.  I had to promise them you were not a total fool.',\n",
              " 'L1949': 'How did you manage it?',\n",
              " 'L1948': \"That's what it says.\",\n",
              " 'L1947': \"God... That's in a week!\",\n",
              " 'L1943': 'Father, I am doing what I think is the best for him.  And he has the teacher I would have chosen for myself.',\n",
              " 'L1942': 'Diego is a bright boy -- a pleasure to teach -- but so serious... Brothers should be raised together, Colon.  Even brothers from different mothers...',\n",
              " 'L2459': 'Your Majesty -- some men are content to read about things.  I must see them with my own eyes.  I cannot be other than I am.',\n",
              " 'L2458': \"There is one thing I'd like to understand... Why do you want to go back, after all this?\",\n",
              " 'L2457': 'Thank you.',\n",
              " 'L2456': 'But without your brothers.  Nor are you to return to Santo Domingo or any of the other colonies.  You may explore the continent.',\n",
              " 'L2280': 'They come and go as naked as the day God created them...',\n",
              " 'L2279': 'Do they have such thoughts?',\n",
              " 'L2086': 'Thirty seven, Your Majesty... And you?',\n",
              " 'L2085': 'How old are you, Senor Colon?',\n",
              " 'L2082': 'A woman?',\n",
              " 'L2081': 'I know what I see.  I see someone who doesn\\'t accept the world as it is.  Who\\'s not afraid.  I see a women who thinks... \"What if?\"...',\n",
              " 'L2080': 'You show no inclination to speak otherwise!',\n",
              " 'L2079': 'May I speak freely?',\n",
              " 'L2077': 'Surely you can do anything you want.',\n",
              " 'L2076': 'I cannot ignore the verdict of my council.',\n",
              " 'L2075': 'That she was impregnable.',\n",
              " 'L2074': 'What did they say about Granada before today?',\n",
              " 'L2073': 'The ocean is uncrossable?',\n",
              " 'L2072': 'No more than the woman who said she would take Granada from the Moors.',\n",
              " 'L2071': 'I should not even be listening to you, since my council said no.  But Santangel tells me you are a man of honor and sincerity... And Sanchez, that you are not a fool.',\n",
              " 'L2389': 'You will regret this.',\n",
              " 'L2388': \"You'll be held in detention, deprived of your privileges and possessions.  Until you are returned to Spain where you will be judged. Have you anything to say?\",\n",
              " 'L2387': 'Savagery is what monkeys understand.',\n",
              " 'L2386': 'In one act of brutality, you have created chaos.  Tribes who were fighting each other are now joining forces against us!  All that because of your criminal savagery!',\n",
              " 'L2348': 'You did not hear me, Don Colon.  Not my horse.',\n",
              " 'L2347': 'Don Moxica -- we all have to work.',\n",
              " 'L2346': \"My horse doesn't work.\",\n",
              " 'L2345': \"We can't raise the wheel without it.\",\n",
              " 'L2333': 'We came here to stay!  To build! Not to start a crusade.  In this forest, there is enough danger to sweep us away in days!  So we will be brave and swallow our grief.  And in the name of those who died, we will accomplish what we came for.',\n",
              " 'L2332': \"We don't need to know.\",\n",
              " 'L2331': 'You want a war?  Fine.  We are a thousand.  They outnumber us by ten! Who will you kill?  Which tribe?',\n",
              " 'L2329': \"If you want to keep your head on your shoulders, you'll do as I say.\",\n",
              " 'L2328': 'We lost cousins, friends.  We will wash this in blood.',\n",
              " 'L2278': 'The Indians have no such word, Don Moxica.',\n",
              " 'L2277': \"And you say this is an Indian vice? By God!  I don't see any kind of pleasure that would make this a sin.\",\n",
              " 'L2492': \"We can't be.\",\n",
              " 'L2491': \"He's drawing an isthmus... He's saying we're on an isthmus.\",\n",
              " 'L2490': \"What's he doing?\",\n",
              " 'L2165': 'Twenty eight.',\n",
              " 'L2164': 'What do you read?',\n",
              " 'L2160': 'Come over here.',\n",
              " 'L2159': \"Well, I surely know what a quadrant is!  But I've never seen it used at night before.\",\n",
              " 'L2158': 'And what do you think Mendez?',\n",
              " 'L2157': \"Well... It's the men, Sir.  They wonder how you know our position. We've lost sight from land days ago...\",\n",
              " 'L2155': 'God be with us admiral.',\n",
              " 'L2154': 'Due west, Captain Mendez.  And may God be with us...',\n",
              " 'L2211': \"You're right.  Let the men decide.\",\n",
              " 'L2210': 'You tell that to them!',\n",
              " 'L2209': 'Pinzon, Pinzon... All we can do now is go forward!  Think about that!',\n",
              " 'L2208': 'You bloody...',\n",
              " 'L2207': 'You never did.  You did all the talking for both of us, remember?',\n",
              " 'L2206': 'Jesus Maria!  I should have never listened to you!',\n",
              " 'L2205': 'And then what?  Half of the water has gone, the rest is nearly putrid! You know that!',\n",
              " 'L2204': \"You don't know anything!  Listen Colon, these are my ships, right? So I'm telling you we're turning back!\",\n",
              " 'L2203': 'The land is there.  I know it!',\n",
              " 'L2202': \"We're lost!\",\n",
              " 'L2201': \"You think I don't know that?\",\n",
              " 'L2200': \"We're on the verge of a mutiny, Colon!\",\n",
              " 'L2199': 'We have to keep the hopes of these men alive!',\n",
              " 'L2198': 'You must be mad...!',\n",
              " 'L2197': 'Six days ago, yes.',\n",
              " 'L2196': \"You lied!  You cheated!  We're way past 750 leagues!\",\n",
              " 'L2065': 'Immediately.',\n",
              " 'L2064': 'Where can I meet this man?',\n",
              " 'L2462': 'Because he is not afraid of me.',\n",
              " 'L2461': 'Then why?',\n",
              " 'L2460': 'I know, I should not tolerate his impertinence.',\n",
              " 'L2419': 'And who would you think of, for such a task?',\n",
              " 'L2418': 'He must be replaced.',\n",
              " 'L2417': 'Then, what do you suggest, Don Sanchez?',\n",
              " 'L2415': 'Is this true, Brother Buyl?',\n",
              " 'L2414': '... But there is worse.  He ordered the execution of five members of the nobility...',\n",
              " 'L2377': \"We weren't expecting immediate profits, were we?  We must have faith.  We must give time for time.\",\n",
              " 'L2376': 'Every ship returns with a cargo of sick and dying.  But with no gold! The new world proves expensive, Your Majesty.',\n",
              " 'L2116': \"Yes.  It would be a pity, wouldn't it?  Call him back!\",\n",
              " 'L2115': '... Into a monk...',\n",
              " 'L2113': 'Never, Your Majesty.  Although...',\n",
              " 'L2112': 'You were right, Don Sanchez... His demands could never be granted.',\n",
              " 'L1931': 'Yes, Your Majesty.',\n",
              " 'L1930': 'Is that the man I knew, Treasurer Sanchez?',\n",
              " 'L3546': \"Officers, there's your killer, do your duty, arrest him!\",\n",
              " 'L3545': '...so we kill someone famous and if we are caught, we are sent to mental hospital...',\n",
              " 'L3497': \"I don't think it's abuse, I think it's torture.\",\n",
              " 'L3496': \"I'm abused.  Don't you think?\",\n",
              " 'L3493': 'Can I see your back?',\n",
              " 'L3492': 'Out on my back when I was a small boy.',\n",
              " 'L3491': 'Your father put cigarettes out on you?',\n",
              " 'L3490': \"That's what he did to me.  He put cigarettes out on me.\",\n",
              " 'L3489': 'Yeah, he hated me from day when I was born.  Put it out.  Can you put the cigarette out?',\n",
              " 'L3488': \"Your father blamed you for your mother's blindness?\",\n",
              " 'L3487': 'Yeah, yeah...bad doctor gave her bad drugs which made her go blind.  And my father blamed me for her blindness...',\n",
              " 'L3486': 'Back in the Czech Republic?',\n",
              " 'L3485': 'Yeah, she went blind giving birth to me. She went to fucking black market doctor to induce me.',\n",
              " 'L3484': 'Your mother was blind?',\n",
              " 'L3483': 'My father always degraded me.  Killed my self-esteem.  And my mother was blind.',\n",
              " 'L3482': 'Tell me about yourself.  What you did as a young boy... what your parents were like.',\n",
              " 'L3481': 'Give me another one, please.',\n",
              " 'L3480': \"I need to know about your background.  I need to know about your upbringing.  Why you're here.\",\n",
              " 'L3479': 'What else do you need?',\n",
              " 'L3478': 'This is not about money, Emil.  I need your trust in me.',\n",
              " 'L3477': \"Thirty-percent.  No more.  Or I call another lawyer.  This is the biggest case of your life.  Don't try to negotiate.  Thirty percent.  Say yes or no.\",\n",
              " 'L3476': \"But it's...\",\n",
              " 'L3475': 'No.  No way.',\n",
              " 'L3474': 'I would say...half.  Half is fair.',\n",
              " 'L3473': \"What's your cut?  How much?\",\n",
              " 'L3472': \"Look, I haven't really focused on that kind of thing.\",\n",
              " 'L3471': 'What about my movie rights?  Book rights?',\n",
              " 'L3470': \"Don't worry about him.  Think about yourself.\",\n",
              " 'L3469': 'No, he is here.  Shit...',\n",
              " 'L3468': \"Disappeared.  They're looking everywhere.  Maybe he went back to Czechoslovakia.\",\n",
              " 'L3467': 'What about Oleg?',\n",
              " 'L3466': \"Well, you didn't appreciate the severity of it until recently.  No question about that.\",\n",
              " 'L3465': 'I was all of these.',\n",
              " 'L3464': '...delusions and paranoia.',\n",
              " 'L3461': 'Oh, sure.',\n",
              " 'L3460': 'You bring the cigarettes?',\n",
              " 'L3459': \"I brought you some letters.  It's really fan mail.  Women mostly.  One wants to buy you clothes, another sent a check. Another wants a check.\",\n",
              " 'L3396': \"I'm invoking rights - this man is represented by counsel.  I'm coming with him.\",\n",
              " 'L3395': 'Yes.  Yes, come with me!',\n",
              " 'L3394': \"I'm coming with you.\",\n",
              " 'L3393': 'Where are we going?',\n",
              " 'L3392': \"Don't say anything.\",\n",
              " 'L3385': 'He has the camera!  He took the movie!',\n",
              " 'L3384': 'Emil.  Take it easy.  Stay with me.  Sit down.  What do you need?  What are you looking for?',\n",
              " 'L3383': 'Oh no!  No!  Shit!',\n",
              " 'L3382': 'Here.  I have your money.',\n",
              " 'L3381': \"I'm not your lawyer until I see the money.\",\n",
              " 'L3380': \"Are you my attorney?  I'm Emil.  I'm insane.\",\n",
              " 'L3517': 'Daphne, I...',\n",
              " 'L3516': \"I don't want to drag you down with me.\",\n",
              " 'L3515': '...Do you really want me to forget about you?',\n",
              " 'L3514': 'Forget about me.  You have enough problems of your own.',\n",
              " 'L3330': 'Pouring it out!',\n",
              " 'L3329': 'What are you doing?',\n",
              " 'L3318': \"I'll get my clothes.\",\n",
              " 'L3317': \"I'll make some for us.\",\n",
              " 'L3316': 'In the kitchen.',\n",
              " 'L3315': 'Do you have coffee?',\n",
              " ...}"
            ]
          },
          "metadata": {
            "tags": []
          },
          "execution_count": 5
        }
      ]
    },
    {
      "cell_type": "code",
      "metadata": {
        "id": "i_oldPVDOPXj",
        "colab_type": "code",
        "colab": {}
      },
      "source": [
        "#Accessing indexes of lines in movie_conversations.txt\n",
        "convos=[]\n",
        "for line in conv_lines:\n",
        "  _line=line.split(' +++$+++ ')[-1][1:-1].replace(\"'\",\"\").replace(\" \",\"\")\n",
        "  convos.append(_line.split(\",\"))\n",
        "  #convos.append(_line)"
      ],
      "execution_count": null,
      "outputs": []
    },
    {
      "cell_type": "code",
      "metadata": {
        "id": "jLUKQUFOLsfM",
        "colab_type": "code",
        "colab": {
          "base_uri": "https://localhost:8080/",
          "height": 191
        },
        "outputId": "0d53b38a-a6a1-47b4-ff38-f49b6ff261e8"
      },
      "source": [
        "convos[:10]"
      ],
      "execution_count": null,
      "outputs": [
        {
          "output_type": "execute_result",
          "data": {
            "text/plain": [
              "[['L194', 'L195', 'L196', 'L197'],\n",
              " ['L198', 'L199'],\n",
              " ['L200', 'L201', 'L202', 'L203'],\n",
              " ['L204', 'L205', 'L206'],\n",
              " ['L207', 'L208'],\n",
              " ['L271', 'L272', 'L273', 'L274', 'L275'],\n",
              " ['L276', 'L277'],\n",
              " ['L280', 'L281'],\n",
              " ['L363', 'L364'],\n",
              " ['L365', 'L366']]"
            ]
          },
          "metadata": {
            "tags": []
          },
          "execution_count": 7
        }
      ]
    },
    {
      "cell_type": "code",
      "metadata": {
        "id": "vJOhKqJ9ZCaM",
        "colab_type": "code",
        "colab": {
          "base_uri": "https://localhost:8080/",
          "height": 572
        },
        "outputId": "d76c62ef-bc25-46c1-dfd9-5f6dc5fb12b6"
      },
      "source": [
        "#Arranging the sentences into questions and answers\n",
        "questions=[]\n",
        "answers=[]\n",
        "for conv in  convos:\n",
        "  for i in range(len(conv)-1):\n",
        "    questions.append(id2line[conv[i]])\n",
        "    answers.append(id2line[conv[i+1]])\n",
        "\n",
        "#Printing the loaded questions and answers sets\n",
        "\n",
        "for i in range(0,10):\n",
        "  print(questions[i])\n",
        "  print(answers[i])\n",
        "  print()\n",
        "\n",
        "print(len(questions))\n",
        "print(len(answers))\n"
      ],
      "execution_count": null,
      "outputs": [
        {
          "output_type": "stream",
          "text": [
            "Can we make this quick?  Roxanne Korrine and Andrew Barrett are having an incredibly horrendous public break- up on the quad.  Again.\n",
            "Well, I thought we'd start with pronunciation, if that's okay with you.\n",
            "\n",
            "Well, I thought we'd start with pronunciation, if that's okay with you.\n",
            "Not the hacking and gagging and spitting part.  Please.\n",
            "\n",
            "Not the hacking and gagging and spitting part.  Please.\n",
            "Okay... then how 'bout we try out some French cuisine.  Saturday?  Night?\n",
            "\n",
            "You're asking me out.  That's so cute. What's your name again?\n",
            "Forget it.\n",
            "\n",
            "No, no, it's my fault -- we didn't have a proper introduction ---\n",
            "Cameron.\n",
            "\n",
            "Cameron.\n",
            "The thing is, Cameron -- I'm at the mercy of a particularly hideous breed of loser.  My sister.  I can't date until she does.\n",
            "\n",
            "The thing is, Cameron -- I'm at the mercy of a particularly hideous breed of loser.  My sister.  I can't date until she does.\n",
            "Seems like she could get a date easy enough...\n",
            "\n",
            "Why?\n",
            "Unsolved mystery.  She used to be really popular when she started high school, then it was just like she got sick of it or something.\n",
            "\n",
            "Unsolved mystery.  She used to be really popular when she started high school, then it was just like she got sick of it or something.\n",
            "That's a shame.\n",
            "\n",
            "Gosh, if only we could find Kat a boyfriend...\n",
            "Let me see what I can do.\n",
            "\n",
            "221616\n",
            "221616\n"
          ],
          "name": "stdout"
        }
      ]
    },
    {
      "cell_type": "code",
      "metadata": {
        "id": "tKGwft8eemEl",
        "colab_type": "code",
        "colab": {}
      },
      "source": [
        "import re\n",
        "def cleanText(text):\n",
        "  text=text.lower()\n",
        "  text=re.sub(r\"'bout\",\"about\",text)\n",
        "  text=re.sub(r\"that's\",\"that is\",text)\n",
        "  text=re.sub(r\"she's\",\"she is\",text)\n",
        "  text=re.sub(r\"he's\",\"he is\",text)\n",
        "  text=re.sub(r\"where's\",\"where is\",text)\n",
        "  text=re.sub(r\"\\'ve\",\" have\",text)\n",
        "  text=re.sub(r\"\\'d\",\" would\",text)\n",
        "  text=re.sub(r\"\\n't\",\"not\",text)\n",
        "  text=re.sub(r\"won't\",\"will not\",text)\n",
        "  text=re.sub(\"didn't\",\"did not\",text)\n",
        "  text=re.sub(\"don't\",\"do not\",text)\n",
        "  text=re.sub(\"it's\",\"it is\",text)\n",
        "  text=re.sub(\"can't\",\"cannot\",text)\n",
        "  text=re.sub(r\"you're\",\"you are\",text)\n",
        "  text=re.sub(r\"\\'re\",\" are\",text)\n",
        "  text=re.sub(r\"[-(),:/;.?]\",\"\",text)\n",
        "  text=re.sub(r\"what's\",\"what is\",text)\n",
        "  text=re.sub(\"there's\",\"there is\",text)\n",
        "  text=re.sub(r\"\\'ve\",\"have\",text)\n",
        "  text=re.sub(r\"i'm\",\"i am\",text)\n",
        "  return text"
      ],
      "execution_count": null,
      "outputs": []
    },
    {
      "cell_type": "code",
      "metadata": {
        "id": "sfrsCG7wiRZ9",
        "colab_type": "code",
        "colab": {
          "base_uri": "https://localhost:8080/",
          "height": 572
        },
        "outputId": "276e1a9d-4a41-4828-cfcc-b4a907fcfc14"
      },
      "source": [
        "#questions and answers after applying changes\n",
        "cl_questions=[]\n",
        "cl_answers=[]\n",
        "for question in questions:\n",
        "  cl_questions.append(cleanText(question))\n",
        "for answer in answers:\n",
        "  cl_answers.append(cleanText(answer)) \n",
        "\n",
        "for i in range(0,10):\n",
        "  print(cl_questions[i])\n",
        "  print(cl_answers[i])\n",
        "  print()\n",
        "\n",
        "print(len(cl_questions))\n",
        "print(len(cl_answers))"
      ],
      "execution_count": null,
      "outputs": [
        {
          "output_type": "stream",
          "text": [
            "can we make this quick  roxanne korrine and andrew barrett are having an incredibly horrendous public break up on the quad  again\n",
            "well i thought we would start with pronunciation if that is okay with you\n",
            "\n",
            "well i thought we would start with pronunciation if that is okay with you\n",
            "not the hacking and gagging and spitting part  please\n",
            "\n",
            "not the hacking and gagging and spitting part  please\n",
            "okay then how about we try out some french cuisine  saturday  night\n",
            "\n",
            "you are asking me out  that is so cute what is your name again\n",
            "forget it\n",
            "\n",
            "no no it is my fault  we did not have a proper introduction \n",
            "cameron\n",
            "\n",
            "cameron\n",
            "the thing is cameron  i am at the mercy of a particularly hideous breed of loser  my sister  i cannot date until she does\n",
            "\n",
            "the thing is cameron  i am at the mercy of a particularly hideous breed of loser  my sister  i cannot date until she does\n",
            "seems like she could get a date easy enough\n",
            "\n",
            "why\n",
            "unsolved mystery  she used to be really popular when she started high school then it was just like she got sick of it or something\n",
            "\n",
            "unsolved mystery  she used to be really popular when she started high school then it was just like she got sick of it or something\n",
            "that is a shame\n",
            "\n",
            "gosh if only we could find kat a boyfriend\n",
            "let me see what i can do\n",
            "\n",
            "221616\n",
            "221616\n"
          ],
          "name": "stdout"
        }
      ]
    },
    {
      "cell_type": "code",
      "metadata": {
        "id": "6VAOnu0kiqfq",
        "colab_type": "code",
        "colab": {
          "base_uri": "https://localhost:8080/",
          "height": 208
        },
        "outputId": "c04bc08a-6023-4dd6-8837-82328c7b6c27"
      },
      "source": [
        "cl_questions[:11]\n",
        "#cl_questions[-1]"
      ],
      "execution_count": null,
      "outputs": [
        {
          "output_type": "execute_result",
          "data": {
            "text/plain": [
              "['can we make this quick  roxanne korrine and andrew barrett are having an incredibly horrendous public break up on the quad  again',\n",
              " 'well i thought we would start with pronunciation if that is okay with you',\n",
              " 'not the hacking and gagging and spitting part  please',\n",
              " 'you are asking me out  that is so cute what is your name again',\n",
              " 'no no it is my fault  we did not have a proper introduction ',\n",
              " 'cameron',\n",
              " 'the thing is cameron  i am at the mercy of a particularly hideous breed of loser  my sister  i cannot date until she does',\n",
              " 'why',\n",
              " 'unsolved mystery  she used to be really popular when she started high school then it was just like she got sick of it or something',\n",
              " 'gosh if only we could find kat a boyfriend',\n",
              " \"c'esc ma tete this is my head\"]"
            ]
          },
          "metadata": {
            "tags": []
          },
          "execution_count": 11
        }
      ]
    },
    {
      "cell_type": "code",
      "metadata": {
        "id": "pS__1PLWppY8",
        "colab_type": "code",
        "colab": {
          "base_uri": "https://localhost:8080/",
          "height": 191
        },
        "outputId": "86008ebf-781c-41d3-af9b-58d0d64c0db5"
      },
      "source": [
        "cl_answers[:10]"
      ],
      "execution_count": null,
      "outputs": [
        {
          "output_type": "execute_result",
          "data": {
            "text/plain": [
              "['well i thought we would start with pronunciation if that is okay with you',\n",
              " 'not the hacking and gagging and spitting part  please',\n",
              " 'okay then how about we try out some french cuisine  saturday  night',\n",
              " 'forget it',\n",
              " 'cameron',\n",
              " 'the thing is cameron  i am at the mercy of a particularly hideous breed of loser  my sister  i cannot date until she does',\n",
              " 'seems like she could get a date easy enough',\n",
              " 'unsolved mystery  she used to be really popular when she started high school then it was just like she got sick of it or something',\n",
              " 'that is a shame',\n",
              " 'let me see what i can do']"
            ]
          },
          "metadata": {
            "tags": []
          },
          "execution_count": 12
        }
      ]
    },
    {
      "cell_type": "code",
      "metadata": {
        "id": "-Mb46fHyn4a9",
        "colab_type": "code",
        "colab": {
          "base_uri": "https://localhost:8080/",
          "height": 254
        },
        "outputId": "329e022b-d5ae-4a38-fbce-7d5b40a21312"
      },
      "source": [
        "leng=[]\n",
        "for i in cl_questions:\n",
        "  leng.append(len(i.split()))\n",
        "for j in cl_answers:\n",
        "  leng.append(len(j.split()))\n",
        "print(len(leng))\n",
        "print(leng[0])\n",
        "print(leng[len(cl_questions)-1])\n",
        "lengDf=pd.DataFrame(leng,columns=[\"counts\"])\n",
        "lengDf.head()"
      ],
      "execution_count": null,
      "outputs": [
        {
          "output_type": "stream",
          "text": [
            "443232\n",
            "22\n",
            "22\n"
          ],
          "name": "stdout"
        },
        {
          "output_type": "execute_result",
          "data": {
            "text/html": [
              "<div>\n",
              "<style scoped>\n",
              "    .dataframe tbody tr th:only-of-type {\n",
              "        vertical-align: middle;\n",
              "    }\n",
              "\n",
              "    .dataframe tbody tr th {\n",
              "        vertical-align: top;\n",
              "    }\n",
              "\n",
              "    .dataframe thead th {\n",
              "        text-align: right;\n",
              "    }\n",
              "</style>\n",
              "<table border=\"1\" class=\"dataframe\">\n",
              "  <thead>\n",
              "    <tr style=\"text-align: right;\">\n",
              "      <th></th>\n",
              "      <th>counts</th>\n",
              "    </tr>\n",
              "  </thead>\n",
              "  <tbody>\n",
              "    <tr>\n",
              "      <th>0</th>\n",
              "      <td>22</td>\n",
              "    </tr>\n",
              "    <tr>\n",
              "      <th>1</th>\n",
              "      <td>14</td>\n",
              "    </tr>\n",
              "    <tr>\n",
              "      <th>2</th>\n",
              "      <td>9</td>\n",
              "    </tr>\n",
              "    <tr>\n",
              "      <th>3</th>\n",
              "      <td>14</td>\n",
              "    </tr>\n",
              "    <tr>\n",
              "      <th>4</th>\n",
              "      <td>13</td>\n",
              "    </tr>\n",
              "  </tbody>\n",
              "</table>\n",
              "</div>"
            ],
            "text/plain": [
              "   counts\n",
              "0      22\n",
              "1      14\n",
              "2       9\n",
              "3      14\n",
              "4      13"
            ]
          },
          "metadata": {
            "tags": []
          },
          "execution_count": 13
        }
      ]
    },
    {
      "cell_type": "code",
      "metadata": {
        "id": "BFOBSQ8dp0ib",
        "colab_type": "code",
        "colab": {
          "base_uri": "https://localhost:8080/",
          "height": 104
        },
        "outputId": "1e407b5f-ff6f-454c-c72f-ab2c7b80b100"
      },
      "source": [
        "cl_questions[:5]"
      ],
      "execution_count": null,
      "outputs": [
        {
          "output_type": "execute_result",
          "data": {
            "text/plain": [
              "['can we make this quick  roxanne korrine and andrew barrett are having an incredibly horrendous public break up on the quad  again',\n",
              " 'well i thought we would start with pronunciation if that is okay with you',\n",
              " 'not the hacking and gagging and spitting part  please',\n",
              " 'you are asking me out  that is so cute what is your name again',\n",
              " 'no no it is my fault  we did not have a proper introduction ']"
            ]
          },
          "metadata": {
            "tags": []
          },
          "execution_count": 14
        }
      ]
    },
    {
      "cell_type": "code",
      "metadata": {
        "id": "KtE6nyQLBm8H",
        "colab_type": "code",
        "colab": {
          "base_uri": "https://localhost:8080/",
          "height": 52
        },
        "outputId": "ddbb18d5-7272-47dc-aedc-9d295c70435b"
      },
      "source": [
        "#Filtering out the questions that are too short or that are too long\n",
        "min_length=2\n",
        "max_length=20\n",
        "\n",
        "#filtering questions\n",
        "sorted_questions_q=[]\n",
        "sorted_answers_q=[]\n",
        "i=0\n",
        "for question in cl_questions:\n",
        "  if(len(question.split())>=min_length and len(question.split())<=max_length):\n",
        "    sorted_questions_q.append(question)\n",
        "    sorted_answers_q.append(cl_answers[i])\n",
        "  i=i+1\n",
        "\n",
        "#filtering answers from sorted questions\n",
        "sorted_questions=[]\n",
        "sorted_answers=[]\n",
        "i=0\n",
        "for answer in sorted_answers_q:\n",
        "  if(len(answer.split())>=min_length and len(answer.split())<=max_length):\n",
        "      sorted_answers.append(answer)\n",
        "      sorted_questions.append(sorted_questions_q[i])\n",
        "  i=i+1\n",
        "\n",
        "print(len(sorted_questions))\n",
        "print(len(sorted_answers))\n"
      ],
      "execution_count": null,
      "outputs": [
        {
          "output_type": "stream",
          "text": [
            "139076\n",
            "139076\n"
          ],
          "name": "stdout"
        }
      ]
    },
    {
      "cell_type": "code",
      "metadata": {
        "id": "HZBPdvDAVoRV",
        "colab_type": "code",
        "colab": {
          "base_uri": "https://localhost:8080/",
          "height": 52
        },
        "outputId": "0bc53f91-70b1-4aa9-885c-591082520253"
      },
      "source": [
        "#Checking the frequency of words\n",
        "vocab={}\n",
        "for question in sorted_questions:\n",
        "  for word in question.split():\n",
        "    if word not in vocab:\n",
        "      vocab[word]=1\n",
        "    else:\n",
        "      vocab[word]=vocab[word]+1\n",
        "for answer in sorted_answers:\n",
        "  for word in answer.split():\n",
        "    if word not in vocab:\n",
        "      vocab[word]=1\n",
        "    else:\n",
        "      vocab[word]=vocab[word]+1\n",
        "\n",
        "a=vocab[\"hacking\"]\n",
        "print(a)\n",
        "print(len(vocab))"
      ],
      "execution_count": null,
      "outputs": [
        {
          "output_type": "stream",
          "text": [
            "7\n",
            "53366\n"
          ],
          "name": "stdout"
        }
      ]
    },
    {
      "cell_type": "code",
      "metadata": {
        "id": "1rX4RFS-cMna",
        "colab_type": "code",
        "colab": {
          "base_uri": "https://localhost:8080/",
          "height": 191
        },
        "outputId": "0623d494-b41b-4e67-a1dc-396e5f184aff"
      },
      "source": [
        "sorted_questions[:10]"
      ],
      "execution_count": null,
      "outputs": [
        {
          "output_type": "execute_result",
          "data": {
            "text/plain": [
              "['well i thought we would start with pronunciation if that is okay with you',\n",
              " 'not the hacking and gagging and spitting part  please',\n",
              " 'you are asking me out  that is so cute what is your name again',\n",
              " 'gosh if only we could find kat a boyfriend',\n",
              " \"c'esc ma tete this is my head\",\n",
              " 'that is because it is such a nice one',\n",
              " 'how is our little find the wench a date plan progressing',\n",
              " 'you have my word  as a gentleman',\n",
              " 'how do you get your hair to look like that',\n",
              " 'sure have']"
            ]
          },
          "metadata": {
            "tags": []
          },
          "execution_count": 17
        }
      ]
    },
    {
      "cell_type": "code",
      "metadata": {
        "id": "ZV3b_1YmahcJ",
        "colab_type": "code",
        "colab": {
          "base_uri": "https://localhost:8080/",
          "height": 191
        },
        "outputId": "5b074bf9-a301-4f0b-9229-c030c1291022"
      },
      "source": [
        "sorted_answers[:10]"
      ],
      "execution_count": null,
      "outputs": [
        {
          "output_type": "execute_result",
          "data": {
            "text/plain": [
              "['not the hacking and gagging and spitting part  please',\n",
              " 'okay then how about we try out some french cuisine  saturday  night',\n",
              " 'forget it',\n",
              " 'let me see what i can do',\n",
              " 'right  see  you are ready for the quiz',\n",
              " 'forget french',\n",
              " 'well there is someone i think might be ',\n",
              " 'you are sweet',\n",
              " \"eber's deep conditioner every two days and i never ever use a blowdryer without the diffuser attachment\",\n",
              " 'i really really really wanna go but i cannot  not unless my sister goes']"
            ]
          },
          "metadata": {
            "tags": []
          },
          "execution_count": 18
        }
      ]
    },
    {
      "cell_type": "code",
      "metadata": {
        "id": "C1tpWBS__ef3",
        "colab_type": "code",
        "colab": {
          "base_uri": "https://localhost:8080/",
          "height": 35
        },
        "outputId": "24faf9b8-bb52-4232-8100-2bf1ecc84493"
      },
      "source": [
        "print(dict((list(vocab.items()))[:10]))"
      ],
      "execution_count": null,
      "outputs": [
        {
          "output_type": "stream",
          "text": [
            "{'well': 7445, 'i': 94965, 'thought': 2323, 'we': 18084, 'would': 9056, 'start': 711, 'with': 10258, 'pronunciation': 1, 'if': 7400, 'that': 30959}\n"
          ],
          "name": "stdout"
        }
      ]
    },
    {
      "cell_type": "code",
      "metadata": {
        "colab_type": "code",
        "id": "nM5EVrQYDOtx",
        "colab": {
          "base_uri": "https://localhost:8080/",
          "height": 124
        },
        "outputId": "d0ebfc91-9751-4a57-d149-d26455a4b962"
      },
      "source": [
        "#creating dictionary for mapping each word to a unique number\n",
        "questions_vocab_int={}\n",
        "threshold=10\n",
        "word_number=0\n",
        "for word,count in vocab.items():\n",
        "  if(count>=threshold):\n",
        "    questions_vocab_int[word]=word_number\n",
        "    word_number += 1\n",
        "\n",
        "answers_vocab_int={}\n",
        "threshold=10\n",
        "word_number=0\n",
        "for word,count in vocab.items():\n",
        "  if(count>=threshold):\n",
        "    answers_vocab_int[word]=word_number\n",
        "    word_number += 1\n",
        "print(len(vocab))\n",
        "print(len(questions_vocab_int))\n",
        "print(len(answers_vocab_int))\n",
        "print(dict(list(questions_vocab_int.items())[:20]))\n",
        "print(dict(list(answers_vocab_int.items())[:20]))"
      ],
      "execution_count": null,
      "outputs": [
        {
          "output_type": "stream",
          "text": [
            "53366\n",
            "8400\n",
            "8400\n",
            "{'well': 0, 'i': 1, 'thought': 2, 'we': 3, 'would': 4, 'start': 5, 'with': 6, 'if': 7, 'that': 8, 'is': 9, 'okay': 10, 'you': 11, 'not': 12, 'the': 13, 'and': 14, 'spitting': 15, 'part': 16, 'please': 17, 'are': 18, 'asking': 19}\n",
            "{'well': 0, 'i': 1, 'thought': 2, 'we': 3, 'would': 4, 'start': 5, 'with': 6, 'if': 7, 'that': 8, 'is': 9, 'okay': 10, 'you': 11, 'not': 12, 'the': 13, 'and': 14, 'spitting': 15, 'part': 16, 'please': 17, 'are': 18, 'asking': 19}\n"
          ],
          "name": "stdout"
        }
      ]
    },
    {
      "cell_type": "code",
      "metadata": {
        "id": "S7l4K7YaUfX1",
        "colab_type": "code",
        "colab": {
          "base_uri": "https://localhost:8080/",
          "height": 35
        },
        "outputId": "e6412931-afa6-4ee1-82e1-1b7f1e7c31ff"
      },
      "source": [
        "#checking for the unique number of last vocabulary\n",
        "dict(list(questions_vocab_int.items())[::len(list(questions_vocab_int.items()))-1])"
      ],
      "execution_count": null,
      "outputs": [
        {
          "output_type": "execute_result",
          "data": {
            "text/plain": [
              "{'ext': 8399, 'well': 0}"
            ]
          },
          "metadata": {
            "tags": []
          },
          "execution_count": 21
        }
      ]
    },
    {
      "cell_type": "code",
      "metadata": {
        "id": "xWQQWi5SEyrL",
        "colab_type": "code",
        "colab": {}
      },
      "source": [
        "#adding unique numbers to start,end and unknown words in a vocabulary\n",
        "codes=['<PAD>','<EOS>','<GO>','<UNK>']\n",
        "for code in codes:\n",
        "  questions_vocab_int[code]=len(questions_vocab_int)+1\n",
        "for code in codes:\n",
        "  answers_vocab_int[code]=len(questions_vocab_int)+1"
      ],
      "execution_count": null,
      "outputs": []
    },
    {
      "cell_type": "code",
      "metadata": {
        "id": "bj--I84tX2Sb",
        "colab_type": "code",
        "colab": {
          "base_uri": "https://localhost:8080/",
          "height": 35
        },
        "outputId": "7f7e8452-9216-4d25-d646-eeed903988c0"
      },
      "source": [
        "#Creating dictionary to map unique numbers to their respective  words\n",
        "questions_int_vocab={}\n",
        "answers_int_vocab={}\n",
        "for x,y in questions_vocab_int.items():\n",
        "  questions_int_vocab[y]=x\n",
        "dict(list(questions_int_vocab.items())[::len(list(questions_int_vocab.items()))-1])\n",
        "questions_vocab_int['<PAD>']\n",
        "#print(len(questions_int_vocab))"
      ],
      "execution_count": null,
      "outputs": [
        {
          "output_type": "execute_result",
          "data": {
            "text/plain": [
              "8401"
            ]
          },
          "metadata": {
            "tags": []
          },
          "execution_count": 23
        }
      ]
    },
    {
      "cell_type": "code",
      "metadata": {
        "id": "vff-93V8aPZM",
        "colab_type": "code",
        "colab": {
          "base_uri": "https://localhost:8080/",
          "height": 69
        },
        "outputId": "976d09d0-6ea2-4e04-b164-0ac48695df33"
      },
      "source": [
        "for i in range(len(sorted_answers)):\n",
        "  sorted_answers[i]=sorted_answers[i] + ' <EOS>'\n",
        "for i in range(3):\n",
        "  print(sorted_answers[i])"
      ],
      "execution_count": null,
      "outputs": [
        {
          "output_type": "stream",
          "text": [
            "not the hacking and gagging and spitting part  please <EOS>\n",
            "okay then how about we try out some french cuisine  saturday  night <EOS>\n",
            "forget it <EOS>\n"
          ],
          "name": "stdout"
        }
      ]
    },
    {
      "cell_type": "code",
      "metadata": {
        "id": "CCPurR9LgCLo",
        "colab_type": "code",
        "colab": {
          "base_uri": "https://localhost:8080/",
          "height": 69
        },
        "outputId": "3106c64b-4a6f-4892-fe88-f7a722aef74b"
      },
      "source": [
        "sorted_questions[:3]"
      ],
      "execution_count": null,
      "outputs": [
        {
          "output_type": "execute_result",
          "data": {
            "text/plain": [
              "['well i thought we would start with pronunciation if that is okay with you',\n",
              " 'not the hacking and gagging and spitting part  please',\n",
              " 'you are asking me out  that is so cute what is your name again']"
            ]
          },
          "metadata": {
            "tags": []
          },
          "execution_count": 25
        }
      ]
    },
    {
      "cell_type": "code",
      "metadata": {
        "id": "HMUKzrKZdrXB",
        "colab_type": "code",
        "colab": {
          "base_uri": "https://localhost:8080/",
          "height": 121
        },
        "outputId": "2c9ef1ec-016e-4fcc-dbfe-8273b52429d8"
      },
      "source": [
        "#converting a total Questions to a set of unique numbers\n",
        "question_int=[]\n",
        "for question in sorted_questions:\n",
        "  ints=[]\n",
        "  for word in question.split():\n",
        "    if word not in questions_vocab_int:\n",
        "      ints.append(questions_vocab_int['<UNK>'])\n",
        "    else:\n",
        "      ints.append(questions_vocab_int[word])\n",
        "  question_int.append(ints)\n",
        "#Converting total answers to a set of unique numbers\n",
        "answer_int=[]\n",
        "for answer in sorted_answers:\n",
        "  ints=[]\n",
        "  for word in answer.split():\n",
        "    if word not in questions_vocab_int:\n",
        "      ints.append(questions_vocab_int['<UNK>'])\n",
        "    else:\n",
        "      ints.append(questions_vocab_int[word])\n",
        "  answer_int.append(ints)\n",
        "print(sorted_questions[2])\n",
        "print(sorted_answers[0])\n",
        "print(question_int[2])\n",
        "print(answer_int[0])\n",
        "print(len(question_int))\n",
        "print(len(answer_int))"
      ],
      "execution_count": null,
      "outputs": [
        {
          "output_type": "stream",
          "text": [
            "you are asking me out  that is so cute what is your name again\n",
            "not the hacking and gagging and spitting part  please <EOS>\n",
            "[11, 18, 19, 20, 21, 8, 9, 22, 23, 24, 9, 25, 26, 27]\n",
            "[12, 13, 8404, 14, 8404, 14, 15, 16, 17, 8402]\n",
            "139076\n",
            "139076\n"
          ],
          "name": "stdout"
        }
      ]
    },
    {
      "cell_type": "code",
      "metadata": {
        "id": "qQMaA-JngN7G",
        "colab_type": "code",
        "colab": {
          "base_uri": "https://localhost:8080/",
          "height": 329
        },
        "outputId": "85f67c0a-e0a2-4f10-8483-6eab54a2eddd"
      },
      "source": [
        "#Sorting questions and answers wrt to length of questions\n",
        "actual_questions=[]\n",
        "actual_answers=[]\n",
        "\n",
        "for length in range(1,max_length+1):\n",
        "  for j in enumerate(question_int):\n",
        "    if len(j[1])==length:\n",
        "      actual_questions.append(question_int[j[0]])\n",
        "      actual_answers.append(answer_int[j[0]])\n",
        "      \n",
        "print(len(actual_questions))\n",
        "print(len(actual_answers))\n",
        "print()\n",
        "for i in range(5):\n",
        "  print(actual_questions[i])\n",
        "  print(actual_answers[i])\n",
        "  print()\n"
      ],
      "execution_count": null,
      "outputs": [
        {
          "output_type": "stream",
          "text": [
            "139076\n",
            "139076\n",
            "\n",
            "[59, 49]\n",
            "[1, 60, 60, 60, 61, 62, 63, 1, 64, 12, 65, 37, 66, 67, 8402]\n",
            "\n",
            "[1, 84]\n",
            "[11, 193, 174, 56, 62, 21, 6, 8404, 158, 11, 8402]\n",
            "\n",
            "[0, 85]\n",
            "[152, 8, 9, 164, 11, 484, 56, 277, 8402]\n",
            "\n",
            "[24, 87]\n",
            "[20, 36, 8404, 88, 8404, 1, 89, 58, 90, 91, 8402]\n",
            "\n",
            "[71, 10]\n",
            "[1, 1010, 22, 8402]\n",
            "\n"
          ],
          "name": "stdout"
        }
      ]
    },
    {
      "cell_type": "code",
      "metadata": {
        "id": "kmWWJhVQpp9G",
        "colab_type": "code",
        "colab": {
          "base_uri": "https://localhost:8080/",
          "height": 139
        },
        "outputId": "e9dc33e3-5049-4626-b917-f9ccbdfef0c8"
      },
      "source": [
        "#tf.strided_slice(list,begin,end,stride) function demonistration\n",
        "t = tf.constant([[[1, 1, 1], [2, 2, 2]],\n",
        "                 [[3, 3, 3], [4, 4, 4]],\n",
        "                 [[5, 5, 5], [6, 6, 6]]])\n",
        "print(t[2][1])\n",
        "print(tf.strided_slice(t, [1, 0, 0], [2, 2, 4], [1, 1, 1]))\n",
        "print(tf.strided_slice(t, [1, 0, 0], [2, 2, 3], [1, 1, 1]))                                                   \n",
        "print(tf.strided_slice(t, [1, -1, 0], [2, -3, 3], [1, -1, 1]))\n",
        "b=tf.constant([[1,2,3,4],\n",
        "               [8,5,6,7]])\n",
        "print(b[0][3])\n",
        "print(b[1][0])\n",
        "print(tf.strided_slice(b, [0,0], [2, -1], [1,1]))"
      ],
      "execution_count": null,
      "outputs": [
        {
          "output_type": "stream",
          "text": [
            "Tensor(\"strided_slice_1:0\", shape=(3,), dtype=int32)\n",
            "Tensor(\"StridedSlice:0\", shape=(1, 2, 3), dtype=int32)\n",
            "Tensor(\"StridedSlice_1:0\", shape=(1, 2, 3), dtype=int32)\n",
            "Tensor(\"StridedSlice_2:0\", shape=(1, 2, 3), dtype=int32)\n",
            "Tensor(\"strided_slice_3:0\", shape=(), dtype=int32)\n",
            "Tensor(\"strided_slice_5:0\", shape=(), dtype=int32)\n",
            "Tensor(\"StridedSlice_3:0\", shape=(2, 3), dtype=int32)\n"
          ],
          "name": "stdout"
        }
      ]
    },
    {
      "cell_type": "code",
      "metadata": {
        "id": "-sJ1zj681LWg",
        "colab_type": "code",
        "colab": {}
      },
      "source": [
        "# Creating placeholders for the inputs and the targets\n",
        "def model_inputs():\n",
        "    inputs = tf.compat.v1.placeholder(tf.int32, [None, None], name = 'input')\n",
        "    targets = tf.compat.v1.placeholder(tf.int32, [None, None], name = 'target')\n",
        "    lr = tf.compat.v1.placeholder(tf.float32, name = 'learning_rate')\n",
        "    keep_prob = tf.compat.v1.placeholder(tf.float32, name = 'keep_prob')\n",
        "    return inputs, targets, lr, keep_prob"
      ],
      "execution_count": null,
      "outputs": []
    },
    {
      "cell_type": "code",
      "metadata": {
        "id": "dXDsHybVegDo",
        "colab_type": "code",
        "colab": {}
      },
      "source": [
        "#Removing the last word id from each sentence and conacat <GO> to beginning of each sentence\n",
        "# Preprocessing the targets\n",
        "def preprocess_targets(targets, questions_vocab_int, batch_size):\n",
        "    left_side = tf.fill([batch_size, 1], questions_vocab_int['<GO>'])\n",
        "    right_side = tf.strided_slice(targets, [0,0], [batch_size, -1], [1,1])\n",
        "    preprocessed_targets = tf.concat([left_side, right_side], 1)\n",
        "    return preprocessed_targets"
      ],
      "execution_count": null,
      "outputs": []
    },
    {
      "cell_type": "code",
      "metadata": {
        "id": "j_uCUW5dFMp8",
        "colab_type": "code",
        "colab": {}
      },
      "source": [
        "#Padding all answers to length of largest answer\n",
        "#not a useful function\n",
        "def padding_actual_answers(actual_answers,questions_vocab_int):\n",
        "  actual_answers_arr=np.array(actual_answers)                  \n",
        "  max_l = max(len(row) for row in actual_answers_arr)\n",
        "  actual_padded = np.array([row + [questions_vocab_int['<PAD>']] * (max_l - len(row)) for row in actual_answers_arr])\n",
        "  actual_answers_tensor = tf.convert_to_tensor(actual_padded)\n",
        "  return actual_answers_tensor"
      ],
      "execution_count": null,
      "outputs": []
    },
    {
      "cell_type": "code",
      "metadata": {
        "id": "maQCFYR4iI1d",
        "colab_type": "code",
        "colab": {}
      },
      "source": [
        "# Creating the Encoder RNN\n",
        "def encoder_rnn(rnn_inputs, rnn_size, num_layers, keep_prob, sequence_length):\n",
        "    lstm = tf.contrib.rnn.BasicLSTMCell(rnn_size)\n",
        "    lstm_dropout = tf.contrib.rnn.DropoutWrapper(lstm, input_keep_prob = keep_prob)\n",
        "    encoder_cell = tf.contrib.rnn.MultiRNNCell([lstm_dropout] * num_layers)\n",
        "    encoder_output, encoder_state = tf.nn.bidirectional_dynamic_rnn(cell_fw = encoder_cell,\n",
        "                                                                    cell_bw = encoder_cell,\n",
        "                                                                    sequence_length = sequence_length,\n",
        "                                                                    inputs = rnn_inputs,\n",
        "                                                                    dtype = tf.float32)\n",
        "    return encoder_state"
      ],
      "execution_count": null,
      "outputs": []
    },
    {
      "cell_type": "code",
      "metadata": {
        "id": "VPJw3CS1srZq",
        "colab_type": "code",
        "colab": {}
      },
      "source": [
        "#encoder_state---> rnn_decoder gets encoder state as the input\n",
        "#decoder_cell--->rnn_cells in the decoder\n",
        "#deocder_embedded_inputs--->mapping of words to vectors of real numbers\n",
        "#output_function--->used to return output of decoding\n",
        "#keep_probability--->for applying dropout\n",
        "#batch_size--->size of each batch\n",
        "#The purpose of the embeddings matrix is to compute more efficiently the embedding input.\n",
        "#Basically, you multiply your vector of inputs by the embeddings matrix to get your embedded inputs  \n",
        "\n",
        "#attention_states-->hidden states to attend over\n",
        "#num_units-->hiddenStates dimensions\n",
        "#attention_option: how to compute attention, either \"luong\" or \"bahdanau\".\n",
        "\n",
        "# Decoding the training set\n",
        "def decode_training_set(encoder_state, decoder_cell, decoder_embedded_input, sequence_length, decoding_scope, output_function, keep_prob, batch_size):\n",
        "    attention_states = tf.zeros([batch_size, 1, decoder_cell.output_size])\n",
        "    attention_keys, attention_values, attention_score_function, attention_construct_function = tf.contrib.seq2seq.prepare_attention(attention_states, attention_option = \"bahdanau\", num_units = decoder_cell.output_size)\n",
        "    training_decoder_function = tf.contrib.seq2seq.attention_decoder_fn_train(encoder_state[0],\n",
        "                                                                              attention_keys,\n",
        "                                                                              attention_values,\n",
        "                                                                              attention_score_function,\n",
        "                                                                              attention_construct_function,\n",
        "                                                                              name = \"attn_dec_train\")\n",
        "    decoder_output, decoder_final_state, decoder_final_context_state = tf.contrib.seq2seq.dynamic_rnn_decoder(decoder_cell,\n",
        "                                                                                                              training_decoder_function,\n",
        "                                                                                                              decoder_embedded_input,\n",
        "                                                                                                              sequence_length,\n",
        "                                                                                                              scope = decoding_scope)\n",
        "    decoder_output_dropout = tf.nn.dropout(decoder_output, keep_prob)\n",
        "    return output_function(decoder_output_dropout)\n",
        "\n",
        "\n",
        "\n",
        "\n"
      ],
      "execution_count": null,
      "outputs": []
    },
    {
      "cell_type": "code",
      "metadata": {
        "id": "xnNG8K4jOhvO",
        "colab_type": "code",
        "colab": {}
      },
      "source": [
        "#Model Yet to be built"
      ],
      "execution_count": null,
      "outputs": []
    },
    {
      "cell_type": "code",
      "metadata": {
        "id": "UYoKp8MMOoBC",
        "colab_type": "code",
        "colab": {}
      },
      "source": [
        "#Create the decoder RNN"
      ],
      "execution_count": null,
      "outputs": []
    },
    {
      "cell_type": "code",
      "metadata": {
        "id": "9PfZSVmsOxmk",
        "colab_type": "code",
        "colab": {}
      },
      "source": [
        "#Have to built the sequence to sequence model"
      ],
      "execution_count": null,
      "outputs": []
    },
    {
      "cell_type": "code",
      "metadata": {
        "id": "bY0hA2MLO1Rg",
        "colab_type": "code",
        "colab": {}
      },
      "source": [
        "#Training and Testing"
      ],
      "execution_count": null,
      "outputs": []
    }
  ]
}